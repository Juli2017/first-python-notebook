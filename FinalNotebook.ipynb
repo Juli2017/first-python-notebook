{
 "cells": [
  {
   "cell_type": "markdown",
   "metadata": {},
   "source": [
    "# CA Prop 67 Analysis\n",
    "\n",
    "By Juli Armstrong \n",
    "\n",
    "## Analysis of California Prop 67 from November 2016 election\n",
    "\n",
    "*A \"Yes\" vote approves, and a \"No\" vote rejects, a statute that prohibits grocery and other stores from providing customers single–use plastic or paper carryout bags but permits sale of recycled paper bags and reusable bags. Fiscal Impact: Relatively small fiscal effects on state and local governments, including a minor increase in state administrative costs and possible minor local government savings from reduced litter and waste management costs.*\n",
    "\n",
    "\n",
    "\n",
    "### Key Findings\n",
    "\n",
    "- The total large donor amount contributed for Prop 67 was $4,470,574 dollars. There were far more individual contributions in support of the proposition: 6,252 than opposed to it: 27.\n",
    "\n",
    "- More out of State contributions made up the opposition (26 out of 27 contributions) and more in State contributions made up the supporting money (6,1555 out of 6,252 contributions).\n",
    "\n",
    "- Six committees were used to support or oppose Prop 67. The majority of money collected by these committees came from the American Progressive Bag Alliance, opposing the proposition with $2,681,413.25. All of the opposition money came from this single committee. The other five committees collected money in support of the proposition.\n",
    "\n",
    "- The **SUPPORT** side had only 40% of the large donor total amount, but 85% of that came from CA addresses, for a total of $1,789,160.75. \n",
    "\n",
    "- The **OPPOSE** side had a larger total large donor contributions, a total of $2,681,413.25, and 0.07% that was contributed by donors with CA addresses.  The majority of the money was from donors with addresses in TX, SC and NJ.\n",
    "\n",
    "\n",
    ">“It’s a victory that California voters have said ‘no’ to big plastic,” said Mark Murray, executive director of Californians Against Waste. “The defense of this law by grass-roots environmental organizations and community groups is a real testament to this new era of monied special interests not having their way.”\n",
    "\n",
    ">\"The plastic bag industry, largely companies Hilex Poly and Formosa Plastics, paid for Proposition 67 to qualify for the ballot as a referendum to Senate Bill 270. The law banned single-use plastic bags and would have taken effect on Jan. 1, 2015. But the industry’s referendum halted the ban from going into effect until voters weighed in at the polls.\"\n",
    "\n",
    "Source: <a href=\"http://http://www.sacbee.com/news/politics-government/capitol-alert/article113898813.html/\">Californians say farewell to the plastic bag</a>  "
   ]
  },
  {
   "cell_type": "markdown",
   "metadata": {},
   "source": [
    "# The results of the election for Proposition 67\n",
    "\n",
    "## Yes prevailed 53.27% to 46.73%.\n",
    "\n",
    "\n",
    "So there was a large correlation between outside money vs. California donor money and the position taken regarding the proposition.  But the \"home team\" won, in spite of having significantly less large donor money in total."
   ]
  },
  {
   "cell_type": "code",
   "execution_count": 4,
   "metadata": {
    "collapsed": false
   },
   "outputs": [
    {
     "data": {
      "image/png": "[encoded data removed]",
      "text/plain": [
       "<IPython.core.display.Image object>"
      ]
     },
     "execution_count": 4,
     "metadata": {},
     "output_type": "execute_result"
    }
   ],
   "source": [
    "i = Image(filename='Prop67Results.png')\n",
    "i"
   ]
  },
  {
   "cell_type": "markdown",
   "metadata": {
    "collapsed": true
   },
   "source": [
    "Source: <a href=\"http://https://en.wikipedia.org/wiki/California_Proposition_67_(2016)/\">California Proposition 67 (2016)</a>  "
   ]
  },
  {
   "cell_type": "markdown",
   "metadata": {},
   "source": [
    "# How I Did It"
   ]
  },
  {
   "cell_type": "code",
   "execution_count": 9,
   "metadata": {
    "collapsed": true
   },
   "outputs": [],
   "source": [
    "import pandas as pd"
   ]
  },
  {
   "cell_type": "code",
   "execution_count": 10,
   "metadata": {
    "collapsed": true
   },
   "outputs": [],
   "source": [
    "import numpy as np"
   ]
  },
  {
   "cell_type": "code",
   "execution_count": 11,
   "metadata": {
    "collapsed": true
   },
   "outputs": [],
   "source": [
    "%matplotlib inline"
   ]
  },
  {
   "cell_type": "code",
   "execution_count": 12,
   "metadata": {
    "collapsed": true
   },
   "outputs": [],
   "source": [
    "import matplotlib.pyplot as plt"
   ]
  },
  {
   "cell_type": "markdown",
   "metadata": {},
   "source": [
    "**Format all float variables with commas to make values more readable**"
   ]
  },
  {
   "cell_type": "code",
   "execution_count": 13,
   "metadata": {
    "collapsed": true
   },
   "outputs": [],
   "source": [
    "pd.options.display.float_format = '{:,.2f}'.format"
   ]
  },
  {
   "cell_type": "markdown",
   "metadata": {},
   "source": [
    "## Reading in the list of propositions"
   ]
  },
  {
   "cell_type": "code",
   "execution_count": 14,
   "metadata": {
    "collapsed": false
   },
   "outputs": [],
   "source": [
    "props = pd.read_csv(\"http://www.firstpythonnotebook.org/_static/committees.csv\")"
   ]
  },
  {
   "cell_type": "code",
   "execution_count": 15,
   "metadata": {
    "collapsed": false
   },
   "outputs": [
    {
     "name": "stdout",
     "output_type": "stream",
     "text": [
      "<class 'pandas.core.frame.DataFrame'>\n",
      "RangeIndex: 102 entries, 0 to 101\n",
      "Data columns (total 8 columns):\n",
      "ocd_prop_id               102 non-null object\n",
      "calaccess_prop_id         102 non-null int64\n",
      "ccdc_prop_id              102 non-null int64\n",
      "prop_name                 102 non-null object\n",
      "ccdc_committee_id         102 non-null int64\n",
      "calaccess_committee_id    102 non-null int64\n",
      "committee_name            102 non-null object\n",
      "committee_position        102 non-null object\n",
      "dtypes: int64(4), object(4)\n",
      "memory usage: 4.8+ KB\n"
     ]
    }
   ],
   "source": [
    "props.info()"
   ]
  },
  {
   "cell_type": "markdown",
   "metadata": {},
   "source": [
    "## Reading in the list of contributions for the ballot measures.  I inserted a column, Source_St so that I could easily group contributions from California addresses versus out of California addresses.  I handled the missing data in the contributor first and last name columns, and then created a concatenated column, Contributor, that combined the values in those two columns, stripping off any leading or trailing spaces."
   ]
  },
  {
   "cell_type": "code",
   "execution_count": 16,
   "metadata": {
    "collapsed": false
   },
   "outputs": [],
   "source": [
    "contribs = pd.read_csv(\"http://www.firstpythonnotebook.org/_static/contributions.csv\")"
   ]
  },
  {
   "cell_type": "code",
   "execution_count": 17,
   "metadata": {
    "collapsed": true
   },
   "outputs": [],
   "source": [
    "contribs.contributor_lastname = contribs.contributor_lastname.fillna('')"
   ]
  },
  {
   "cell_type": "code",
   "execution_count": 18,
   "metadata": {
    "collapsed": true
   },
   "outputs": [],
   "source": [
    "contribs.contributor_firstname = contribs.contributor_firstname.fillna('')"
   ]
  },
  {
   "cell_type": "code",
   "execution_count": 19,
   "metadata": {
    "collapsed": false
   },
   "outputs": [],
   "source": [
    "contribs['Source_St']= np.where(contribs['contributor_state'] == 'CA', 'CA','OTH')"
   ]
  },
  {
   "cell_type": "code",
   "execution_count": 20,
   "metadata": {
    "collapsed": true
   },
   "outputs": [],
   "source": [
    "contribs['Contributor']= contribs['contributor_firstname']+ ' ' + contribs['contributor_lastname']"
   ]
  },
  {
   "cell_type": "code",
   "execution_count": 21,
   "metadata": {
    "collapsed": false
   },
   "outputs": [],
   "source": [
    "contribs['Contributor']= contribs['Contributor'].str.strip()"
   ]
  },
  {
   "cell_type": "code",
   "execution_count": 22,
   "metadata": {
    "collapsed": false
   },
   "outputs": [
    {
     "name": "stdout",
     "output_type": "stream",
     "text": [
      "<class 'pandas.core.frame.DataFrame'>\n",
      "RangeIndex: 56379 entries, 0 to 56378\n",
      "Data columns (total 15 columns):\n",
      "calaccess_committee_id          56379 non-null int64\n",
      "committee_name                  56379 non-null object\n",
      "calaccess_filing_id             56379 non-null int64\n",
      "date_received                   56379 non-null object\n",
      "contributor_lastname            56379 non-null object\n",
      "contributor_firstname           56379 non-null object\n",
      "contributor_city                56369 non-null object\n",
      "contributor_state               56363 non-null object\n",
      "contributor_zip                 56366 non-null object\n",
      "contributor_employer            48572 non-null object\n",
      "contributor_occupation          53273 non-null object\n",
      "contributor_is_self_employed    56379 non-null bool\n",
      "amount                          56379 non-null float64\n",
      "Source_St                       56379 non-null object\n",
      "Contributor                     56379 non-null object\n",
      "dtypes: bool(1), float64(1), int64(2), object(11)\n",
      "memory usage: 3.7+ MB\n"
     ]
    }
   ],
   "source": [
    "contribs.info()"
   ]
  },
  {
   "cell_type": "markdown",
   "metadata": {},
   "source": [
    "## Filter the list of propositions for the proposition of interest, Prop 67."
   ]
  },
  {
   "cell_type": "code",
   "execution_count": 23,
   "metadata": {
    "collapsed": false
   },
   "outputs": [],
   "source": [
    "prop_67 = props[props.prop_name == 'PROPOSITION 067- REFERENDUM TO OVERTURN BAN ON SINGLE-USE PLASTIC BAGS.']"
   ]
  },
  {
   "cell_type": "code",
   "execution_count": 24,
   "metadata": {
    "collapsed": false
   },
   "outputs": [
    {
     "name": "stdout",
     "output_type": "stream",
     "text": [
      "<class 'pandas.core.frame.DataFrame'>\n",
      "Int64Index: 7 entries, 95 to 101\n",
      "Data columns (total 8 columns):\n",
      "ocd_prop_id               7 non-null object\n",
      "calaccess_prop_id         7 non-null int64\n",
      "ccdc_prop_id              7 non-null int64\n",
      "prop_name                 7 non-null object\n",
      "ccdc_committee_id         7 non-null int64\n",
      "calaccess_committee_id    7 non-null int64\n",
      "committee_name            7 non-null object\n",
      "committee_position        7 non-null object\n",
      "dtypes: int64(4), object(4)\n",
      "memory usage: 392.0+ bytes\n"
     ]
    }
   ],
   "source": [
    "prop_67.info()"
   ]
  },
  {
   "cell_type": "markdown",
   "metadata": {},
   "source": [
    "## Merge the propostion and contribution data sets using their common column, calaccess_committee_id."
   ]
  },
  {
   "cell_type": "code",
   "execution_count": 25,
   "metadata": {
    "collapsed": false
   },
   "outputs": [],
   "source": [
    "merged = pd.merge(prop_67, contribs, on='calaccess_committee_id')"
   ]
  },
  {
   "cell_type": "code",
   "execution_count": 26,
   "metadata": {
    "collapsed": false
   },
   "outputs": [
    {
     "name": "stdout",
     "output_type": "stream",
     "text": [
      "<class 'pandas.core.frame.DataFrame'>\n",
      "Int64Index: 6279 entries, 0 to 6278\n",
      "Data columns (total 22 columns):\n",
      "ocd_prop_id                     6279 non-null object\n",
      "calaccess_prop_id               6279 non-null int64\n",
      "ccdc_prop_id                    6279 non-null int64\n",
      "prop_name                       6279 non-null object\n",
      "ccdc_committee_id               6279 non-null int64\n",
      "calaccess_committee_id          6279 non-null int64\n",
      "committee_name_x                6279 non-null object\n",
      "committee_position              6279 non-null object\n",
      "committee_name_y                6279 non-null object\n",
      "calaccess_filing_id             6279 non-null int64\n",
      "date_received                   6279 non-null object\n",
      "contributor_lastname            6279 non-null object\n",
      "contributor_firstname           6279 non-null object\n",
      "contributor_city                6279 non-null object\n",
      "contributor_state               6278 non-null object\n",
      "contributor_zip                 6278 non-null object\n",
      "contributor_employer            6092 non-null object\n",
      "contributor_occupation          6092 non-null object\n",
      "contributor_is_self_employed    6279 non-null bool\n",
      "amount                          6279 non-null float64\n",
      "Source_St                       6279 non-null object\n",
      "Contributor                     6279 non-null object\n",
      "dtypes: bool(1), float64(1), int64(5), object(15)\n",
      "memory usage: 717.4+ KB\n"
     ]
    }
   ],
   "source": [
    "merged.info()"
   ]
  },
  {
   "cell_type": "code",
   "execution_count": 27,
   "metadata": {
    "collapsed": false
   },
   "outputs": [
    {
     "data": {
      "text/plain": [
       "4470574.0"
      ]
     },
     "execution_count": 27,
     "metadata": {},
     "output_type": "execute_result"
    }
   ],
   "source": [
    "merged.amount.sum()"
   ]
  },
  {
   "cell_type": "code",
   "execution_count": 28,
   "metadata": {
    "collapsed": false
   },
   "outputs": [
    {
     "data": {
      "text/plain": [
       "SUPPORT    6252\n",
       "OPPOSE       27\n",
       "Name: committee_position, dtype: int64"
      ]
     },
     "execution_count": 28,
     "metadata": {},
     "output_type": "execute_result"
    }
   ],
   "source": [
    "merged.committee_position.value_counts()"
   ]
  },
  {
   "cell_type": "markdown",
   "metadata": {},
   "source": [
    "### By pivoting the contribution sums by committee position (support/oppose) and by CA versus Out of state contributor address, it is possible to compare the source of money for the different sides."
   ]
  },
  {
   "cell_type": "code",
   "execution_count": 29,
   "metadata": {
    "collapsed": false
   },
   "outputs": [
    {
     "data": {
      "text/html": [
       "<div>\n",
       "<table border=\"1\" class=\"dataframe\">\n",
       "  <thead>\n",
       "    <tr>\n",
       "      <th></th>\n",
       "      <th colspan=\"3\" halign=\"left\">sum</th>\n",
       "      <th colspan=\"3\" halign=\"left\">len</th>\n",
       "    </tr>\n",
       "    <tr>\n",
       "      <th></th>\n",
       "      <th colspan=\"3\" halign=\"left\">amount</th>\n",
       "      <th colspan=\"3\" halign=\"left\">amount</th>\n",
       "    </tr>\n",
       "    <tr>\n",
       "      <th>committee_position</th>\n",
       "      <th>OPPOSE</th>\n",
       "      <th>SUPPORT</th>\n",
       "      <th>All</th>\n",
       "      <th>OPPOSE</th>\n",
       "      <th>SUPPORT</th>\n",
       "      <th>All</th>\n",
       "    </tr>\n",
       "    <tr>\n",
       "      <th>Source_St</th>\n",
       "      <th></th>\n",
       "      <th></th>\n",
       "      <th></th>\n",
       "      <th></th>\n",
       "      <th></th>\n",
       "      <th></th>\n",
       "    </tr>\n",
       "  </thead>\n",
       "  <tbody>\n",
       "    <tr>\n",
       "      <th>CA</th>\n",
       "      <td>2,000.00</td>\n",
       "      <td>1,528,377.00</td>\n",
       "      <td>1,530,376.75</td>\n",
       "      <td>1.00</td>\n",
       "      <td>6,155.00</td>\n",
       "      <td>6,156.00</td>\n",
       "    </tr>\n",
       "    <tr>\n",
       "      <th>OTH</th>\n",
       "      <td>2,679,413.00</td>\n",
       "      <td>260,784.00</td>\n",
       "      <td>2,940,197.25</td>\n",
       "      <td>26.00</td>\n",
       "      <td>97.00</td>\n",
       "      <td>123.00</td>\n",
       "    </tr>\n",
       "    <tr>\n",
       "      <th>All</th>\n",
       "      <td>2,681,413.25</td>\n",
       "      <td>1,789,160.75</td>\n",
       "      <td>4,470,574.00</td>\n",
       "      <td>27.00</td>\n",
       "      <td>6,252.00</td>\n",
       "      <td>6,279.00</td>\n",
       "    </tr>\n",
       "  </tbody>\n",
       "</table>\n",
       "</div>"
      ],
      "text/plain": [
       "                            sum                              len           \\\n",
       "                         amount                           amount            \n",
       "committee_position       OPPOSE      SUPPORT          All OPPOSE  SUPPORT   \n",
       "Source_St                                                                   \n",
       "CA                     2,000.00 1,528,377.00 1,530,376.75   1.00 6,155.00   \n",
       "OTH                2,679,413.00   260,784.00 2,940,197.25  26.00    97.00   \n",
       "All                2,681,413.25 1,789,160.75 4,470,574.00  27.00 6,252.00   \n",
       "\n",
       "                             \n",
       "                             \n",
       "committee_position      All  \n",
       "Source_St                    \n",
       "CA                 6,156.00  \n",
       "OTH                  123.00  \n",
       "All                6,279.00  "
      ]
     },
     "execution_count": 29,
     "metadata": {},
     "output_type": "execute_result"
    }
   ],
   "source": [
    "pd.pivot_table(merged,index=[\"Source_St\"],values=[\"amount\"],\n",
    "               columns=[\"committee_position\"],aggfunc=[np.sum, len],fill_value=0,margins=True)"
   ]
  },
  {
   "cell_type": "markdown",
   "metadata": {},
   "source": [
    "### Group the merged data by committee name and committee position and sort in descending total contributions amounts."
   ]
  },
  {
   "cell_type": "code",
   "execution_count": 30,
   "metadata": {
    "collapsed": false
   },
   "outputs": [
    {
     "data": {
      "text/html": [
       "<div>\n",
       "<table border=\"1\" class=\"dataframe\">\n",
       "  <thead>\n",
       "    <tr style=\"text-align: right;\">\n",
       "      <th></th>\n",
       "      <th>committee_name_x</th>\n",
       "      <th>committee_position</th>\n",
       "      <th>amount</th>\n",
       "    </tr>\n",
       "  </thead>\n",
       "  <tbody>\n",
       "    <tr>\n",
       "      <th>0</th>\n",
       "      <td>AMERICAN PROGRESSIVE BAG ALLIANCE, A PROJECT O...</td>\n",
       "      <td>OPPOSE</td>\n",
       "      <td>2,681,413.25</td>\n",
       "    </tr>\n",
       "    <tr>\n",
       "      <th>5</th>\n",
       "      <td>YES ON 67 - PROTECT THE PLASTIC BAG BAN, SPONS...</td>\n",
       "      <td>SUPPORT</td>\n",
       "      <td>861,295.75</td>\n",
       "    </tr>\n",
       "    <tr>\n",
       "      <th>2</th>\n",
       "      <td>SAVE THE BAG BAN, YES ON 67, SPONSORED BY ENVI...</td>\n",
       "      <td>SUPPORT</td>\n",
       "      <td>609,365.00</td>\n",
       "    </tr>\n",
       "    <tr>\n",
       "      <th>1</th>\n",
       "      <td>CALIFORNIA GROCERS ASSOCIATION ISSUES COMMITTE...</td>\n",
       "      <td>SUPPORT</td>\n",
       "      <td>200,000.00</td>\n",
       "    </tr>\n",
       "    <tr>\n",
       "      <th>3</th>\n",
       "      <td>SAVE THE BAY ACTION FUND COMMITTEE TO SUPPORT ...</td>\n",
       "      <td>SUPPORT</td>\n",
       "      <td>97,050.00</td>\n",
       "    </tr>\n",
       "    <tr>\n",
       "      <th>4</th>\n",
       "      <td>YES ON 67 - CALIFORNIANS AGAINST WASTE - PROTE...</td>\n",
       "      <td>SUPPORT</td>\n",
       "      <td>21,450.00</td>\n",
       "    </tr>\n",
       "  </tbody>\n",
       "</table>\n",
       "</div>"
      ],
      "text/plain": [
       "                                    committee_name_x committee_position  \\\n",
       "0  AMERICAN PROGRESSIVE BAG ALLIANCE, A PROJECT O...             OPPOSE   \n",
       "5  YES ON 67 - PROTECT THE PLASTIC BAG BAN, SPONS...            SUPPORT   \n",
       "2  SAVE THE BAG BAN, YES ON 67, SPONSORED BY ENVI...            SUPPORT   \n",
       "1  CALIFORNIA GROCERS ASSOCIATION ISSUES COMMITTE...            SUPPORT   \n",
       "3  SAVE THE BAY ACTION FUND COMMITTEE TO SUPPORT ...            SUPPORT   \n",
       "4  YES ON 67 - CALIFORNIANS AGAINST WASTE - PROTE...            SUPPORT   \n",
       "\n",
       "        amount  \n",
       "0 2,681,413.25  \n",
       "5   861,295.75  \n",
       "2   609,365.00  \n",
       "1   200,000.00  \n",
       "3    97,050.00  \n",
       "4    21,450.00  "
      ]
     },
     "execution_count": 30,
     "metadata": {},
     "output_type": "execute_result"
    }
   ],
   "source": [
    "merged.groupby([\"committee_name_x\",\"committee_position\"]).amount.sum().reset_index().sort_values(\"amount\", ascending=False)"
   ]
  },
  {
   "cell_type": "markdown",
   "metadata": {},
   "source": [
    "### Filtering by committee position of the contributions makes it possible to identify the top ten contributors supporting and opposing the proposition as well as the total contributions by State."
   ]
  },
  {
   "cell_type": "code",
   "execution_count": 31,
   "metadata": {
    "collapsed": true
   },
   "outputs": [],
   "source": [
    "support = merged[merged.committee_position == \"SUPPORT\"]"
   ]
  },
  {
   "cell_type": "code",
   "execution_count": 32,
   "metadata": {
    "collapsed": false
   },
   "outputs": [
    {
     "name": "stdout",
     "output_type": "stream",
     "text": [
      "<class 'pandas.core.frame.DataFrame'>\n",
      "Int64Index: 6252 entries, 0 to 6278\n",
      "Data columns (total 22 columns):\n",
      "ocd_prop_id                     6252 non-null object\n",
      "calaccess_prop_id               6252 non-null int64\n",
      "ccdc_prop_id                    6252 non-null int64\n",
      "prop_name                       6252 non-null object\n",
      "ccdc_committee_id               6252 non-null int64\n",
      "calaccess_committee_id          6252 non-null int64\n",
      "committee_name_x                6252 non-null object\n",
      "committee_position              6252 non-null object\n",
      "committee_name_y                6252 non-null object\n",
      "calaccess_filing_id             6252 non-null int64\n",
      "date_received                   6252 non-null object\n",
      "contributor_lastname            6252 non-null object\n",
      "contributor_firstname           6252 non-null object\n",
      "contributor_city                6252 non-null object\n",
      "contributor_state               6251 non-null object\n",
      "contributor_zip                 6251 non-null object\n",
      "contributor_employer            6092 non-null object\n",
      "contributor_occupation          6092 non-null object\n",
      "contributor_is_self_employed    6252 non-null bool\n",
      "amount                          6252 non-null float64\n",
      "Source_St                       6252 non-null object\n",
      "Contributor                     6252 non-null object\n",
      "dtypes: bool(1), float64(1), int64(5), object(15)\n",
      "memory usage: 714.3+ KB\n"
     ]
    }
   ],
   "source": [
    "support.info()"
   ]
  },
  {
   "cell_type": "code",
   "execution_count": 33,
   "metadata": {
    "collapsed": true
   },
   "outputs": [],
   "source": [
    "oppose = merged[merged.committee_position == \"OPPOSE\"]"
   ]
  },
  {
   "cell_type": "code",
   "execution_count": 34,
   "metadata": {
    "collapsed": false
   },
   "outputs": [
    {
     "name": "stdout",
     "output_type": "stream",
     "text": [
      "<class 'pandas.core.frame.DataFrame'>\n",
      "Int64Index: 27 entries, 128 to 154\n",
      "Data columns (total 22 columns):\n",
      "ocd_prop_id                     27 non-null object\n",
      "calaccess_prop_id               27 non-null int64\n",
      "ccdc_prop_id                    27 non-null int64\n",
      "prop_name                       27 non-null object\n",
      "ccdc_committee_id               27 non-null int64\n",
      "calaccess_committee_id          27 non-null int64\n",
      "committee_name_x                27 non-null object\n",
      "committee_position              27 non-null object\n",
      "committee_name_y                27 non-null object\n",
      "calaccess_filing_id             27 non-null int64\n",
      "date_received                   27 non-null object\n",
      "contributor_lastname            27 non-null object\n",
      "contributor_firstname           27 non-null object\n",
      "contributor_city                27 non-null object\n",
      "contributor_state               27 non-null object\n",
      "contributor_zip                 27 non-null object\n",
      "contributor_employer            0 non-null object\n",
      "contributor_occupation          0 non-null object\n",
      "contributor_is_self_employed    27 non-null bool\n",
      "amount                          27 non-null float64\n",
      "Source_St                       27 non-null object\n",
      "Contributor                     27 non-null object\n",
      "dtypes: bool(1), float64(1), int64(5), object(15)\n",
      "memory usage: 3.1+ KB\n"
     ]
    }
   ],
   "source": [
    "oppose.info()"
   ]
  },
  {
   "cell_type": "code",
   "execution_count": 35,
   "metadata": {
    "collapsed": false
   },
   "outputs": [],
   "source": [
    "top_supporters = support.groupby([\"contributor_state\", \"committee_position\"]).amount.sum().reset_index().sort_values(\"amount\", ascending=False)"
   ]
  },
  {
   "cell_type": "code",
   "execution_count": 60,
   "metadata": {
    "collapsed": false
   },
   "outputs": [
    {
     "data": {
      "text/html": [
       "<div>\n",
       "<table border=\"1\" class=\"dataframe\">\n",
       "  <thead>\n",
       "    <tr style=\"text-align: right;\">\n",
       "      <th></th>\n",
       "      <th>contributor_state</th>\n",
       "      <th>committee_position</th>\n",
       "      <th>amount</th>\n",
       "    </tr>\n",
       "  </thead>\n",
       "  <tbody>\n",
       "    <tr>\n",
       "      <th>1</th>\n",
       "      <td>CA</td>\n",
       "      <td>SUPPORT</td>\n",
       "      <td>1,528,376.75</td>\n",
       "    </tr>\n",
       "    <tr>\n",
       "      <th>0</th>\n",
       "      <td>AZ</td>\n",
       "      <td>SUPPORT</td>\n",
       "      <td>155,040.00</td>\n",
       "    </tr>\n",
       "    <tr>\n",
       "      <th>11</th>\n",
       "      <td>OH</td>\n",
       "      <td>SUPPORT</td>\n",
       "      <td>80,200.00</td>\n",
       "    </tr>\n",
       "    <tr>\n",
       "      <th>10</th>\n",
       "      <td>NY</td>\n",
       "      <td>SUPPORT</td>\n",
       "      <td>10,700.00</td>\n",
       "    </tr>\n",
       "    <tr>\n",
       "      <th>3</th>\n",
       "      <td>FL</td>\n",
       "      <td>SUPPORT</td>\n",
       "      <td>5,000.00</td>\n",
       "    </tr>\n",
       "    <tr>\n",
       "      <th>9</th>\n",
       "      <td>NV</td>\n",
       "      <td>SUPPORT</td>\n",
       "      <td>2,500.00</td>\n",
       "    </tr>\n",
       "    <tr>\n",
       "      <th>14</th>\n",
       "      <td>TN</td>\n",
       "      <td>SUPPORT</td>\n",
       "      <td>2,210.00</td>\n",
       "    </tr>\n",
       "    <tr>\n",
       "      <th>16</th>\n",
       "      <td>VA</td>\n",
       "      <td>SUPPORT</td>\n",
       "      <td>1,150.00</td>\n",
       "    </tr>\n",
       "    <tr>\n",
       "      <th>8</th>\n",
       "      <td>NM</td>\n",
       "      <td>SUPPORT</td>\n",
       "      <td>640.00</td>\n",
       "    </tr>\n",
       "    <tr>\n",
       "      <th>2</th>\n",
       "      <td>CO</td>\n",
       "      <td>SUPPORT</td>\n",
       "      <td>436.00</td>\n",
       "    </tr>\n",
       "    <tr>\n",
       "      <th>12</th>\n",
       "      <td>OR</td>\n",
       "      <td>SUPPORT</td>\n",
       "      <td>420.00</td>\n",
       "    </tr>\n",
       "    <tr>\n",
       "      <th>5</th>\n",
       "      <td>IL</td>\n",
       "      <td>SUPPORT</td>\n",
       "      <td>380.00</td>\n",
       "    </tr>\n",
       "    <tr>\n",
       "      <th>17</th>\n",
       "      <td>WA</td>\n",
       "      <td>SUPPORT</td>\n",
       "      <td>350.00</td>\n",
       "    </tr>\n",
       "    <tr>\n",
       "      <th>4</th>\n",
       "      <td>HI</td>\n",
       "      <td>SUPPORT</td>\n",
       "      <td>280.00</td>\n",
       "    </tr>\n",
       "    <tr>\n",
       "      <th>15</th>\n",
       "      <td>TX</td>\n",
       "      <td>SUPPORT</td>\n",
       "      <td>200.00</td>\n",
       "    </tr>\n",
       "    <tr>\n",
       "      <th>7</th>\n",
       "      <td>NJ</td>\n",
       "      <td>SUPPORT</td>\n",
       "      <td>190.00</td>\n",
       "    </tr>\n",
       "    <tr>\n",
       "      <th>6</th>\n",
       "      <td>KS</td>\n",
       "      <td>SUPPORT</td>\n",
       "      <td>96.00</td>\n",
       "    </tr>\n",
       "    <tr>\n",
       "      <th>13</th>\n",
       "      <td>PA</td>\n",
       "      <td>SUPPORT</td>\n",
       "      <td>22.00</td>\n",
       "    </tr>\n",
       "  </tbody>\n",
       "</table>\n",
       "</div>"
      ],
      "text/plain": [
       "   contributor_state committee_position       amount\n",
       "1                 CA            SUPPORT 1,528,376.75\n",
       "0                 AZ            SUPPORT   155,040.00\n",
       "11                OH            SUPPORT    80,200.00\n",
       "10                NY            SUPPORT    10,700.00\n",
       "3                 FL            SUPPORT     5,000.00\n",
       "9                 NV            SUPPORT     2,500.00\n",
       "14                TN            SUPPORT     2,210.00\n",
       "16                VA            SUPPORT     1,150.00\n",
       "8                 NM            SUPPORT       640.00\n",
       "2                 CO            SUPPORT       436.00\n",
       "12                OR            SUPPORT       420.00\n",
       "5                 IL            SUPPORT       380.00\n",
       "17                WA            SUPPORT       350.00\n",
       "4                 HI            SUPPORT       280.00\n",
       "15                TX            SUPPORT       200.00\n",
       "7                 NJ            SUPPORT       190.00\n",
       "6                 KS            SUPPORT        96.00\n",
       "13                PA            SUPPORT        22.00"
      ]
     },
     "execution_count": 60,
     "metadata": {},
     "output_type": "execute_result"
    }
   ],
   "source": [
    "top_supporters"
   ]
  },
  {
   "cell_type": "code",
   "execution_count": 36,
   "metadata": {
    "collapsed": false
   },
   "outputs": [
    {
     "data": {
      "image/png": "[encoded data removed]",
      "text/plain": [
       "<matplotlib.figure.Figure at 0x9c59630>"
      ]
     },
     "metadata": {},
     "output_type": "display_data"
    }
   ],
   "source": [
    "chart =top_supporters.head(5).amount.plot.barh()\n",
    "chart.set_yticklabels(top_supporters.contributor_state)\n",
    "chart.set_xlabel('Total Large Donor Contributions (dollars)')\n",
    "chart.set_ylabel('Contribution State')\n",
    "chart.set_title('Prop 67 Support Contributions By State')\n",
    "chart.tick_params(labelsize=8)"
   ]
  },
  {
   "cell_type": "code",
   "execution_count": 37,
   "metadata": {
    "collapsed": false
   },
   "outputs": [],
   "source": [
    "top_opposers = oppose.groupby([\"contributor_state\", \"committee_position\"]).amount.sum().reset_index().sort_values(\"amount\", ascending=False)"
   ]
  },
  {
   "cell_type": "code",
   "execution_count": 61,
   "metadata": {
    "collapsed": false
   },
   "outputs": [
    {
     "data": {
      "text/html": [
       "<div>\n",
       "<table border=\"1\" class=\"dataframe\">\n",
       "  <thead>\n",
       "    <tr style=\"text-align: right;\">\n",
       "      <th></th>\n",
       "      <th>contributor_state</th>\n",
       "      <th>committee_position</th>\n",
       "      <th>amount</th>\n",
       "    </tr>\n",
       "  </thead>\n",
       "  <tbody>\n",
       "    <tr>\n",
       "      <th>3</th>\n",
       "      <td>TX</td>\n",
       "      <td>OPPOSE</td>\n",
       "      <td>1,056,202.75</td>\n",
       "    </tr>\n",
       "    <tr>\n",
       "      <th>2</th>\n",
       "      <td>SC</td>\n",
       "      <td>OPPOSE</td>\n",
       "      <td>874,769.00</td>\n",
       "    </tr>\n",
       "    <tr>\n",
       "      <th>1</th>\n",
       "      <td>NJ</td>\n",
       "      <td>OPPOSE</td>\n",
       "      <td>748,441.50</td>\n",
       "    </tr>\n",
       "    <tr>\n",
       "      <th>0</th>\n",
       "      <td>CA</td>\n",
       "      <td>OPPOSE</td>\n",
       "      <td>2,000.00</td>\n",
       "    </tr>\n",
       "  </tbody>\n",
       "</table>\n",
       "</div>"
      ],
      "text/plain": [
       "  contributor_state committee_position       amount\n",
       "3                TX             OPPOSE 1,056,202.75\n",
       "2                SC             OPPOSE   874,769.00\n",
       "1                NJ             OPPOSE   748,441.50\n",
       "0                CA             OPPOSE     2,000.00"
      ]
     },
     "execution_count": 61,
     "metadata": {},
     "output_type": "execute_result"
    }
   ],
   "source": [
    "top_opposers"
   ]
  },
  {
   "cell_type": "code",
   "execution_count": 38,
   "metadata": {
    "collapsed": false
   },
   "outputs": [
    {
     "data": {
      "image/png": "[encoded data removed]",
      "text/plain": [
       "<matplotlib.figure.Figure at 0x9d8a5d0>"
      ]
     },
     "metadata": {},
     "output_type": "display_data"
    }
   ],
   "source": [
    "chart =top_opposers.head(5).amount.plot.barh()\n",
    "chart.set_yticklabels(top_opposers.contributor_state)\n",
    "chart.set_xlabel('Total Large Donor Contributions (dollars)')\n",
    "chart.set_ylabel('Contribution State')\n",
    "chart.set_title('Prop 67 Opposition Contributions By State')\n",
    "chart.tick_params(labelsize=8)"
   ]
  },
  {
   "cell_type": "markdown",
   "metadata": {},
   "source": [
    "### Get Top 10 Contributors for Support and Opposition of Proposition 67"
   ]
  },
  {
   "cell_type": "code",
   "execution_count": 39,
   "metadata": {
    "collapsed": false
   },
   "outputs": [
    {
     "data": {
      "text/html": [
       "<div>\n",
       "<table border=\"1\" class=\"dataframe\">\n",
       "  <thead>\n",
       "    <tr style=\"text-align: right;\">\n",
       "      <th></th>\n",
       "      <th>Contributor</th>\n",
       "      <th>committee_name_x</th>\n",
       "      <th>committee_position</th>\n",
       "      <th>amount</th>\n",
       "    </tr>\n",
       "  </thead>\n",
       "  <tbody>\n",
       "    <tr>\n",
       "      <th>223</th>\n",
       "      <td>CALIFORNIA GROCERS ASSOCIATION</td>\n",
       "      <td>CALIFORNIA GROCERS ASSOCIATION ISSUES COMMITTE...</td>\n",
       "      <td>SUPPORT</td>\n",
       "      <td>200,000.00</td>\n",
       "    </tr>\n",
       "    <tr>\n",
       "      <th>28</th>\n",
       "      <td>ALBERTSONS SAFEWAY (FORMERLY KNOWN AS SAFEWAY,...</td>\n",
       "      <td>YES ON 67 - PROTECT THE PLASTIC BAG BAN, SPONS...</td>\n",
       "      <td>SUPPORT</td>\n",
       "      <td>150,000.00</td>\n",
       "    </tr>\n",
       "    <tr>\n",
       "      <th>1030</th>\n",
       "      <td>JULIE PACKARD</td>\n",
       "      <td>YES ON 67 - PROTECT THE PLASTIC BAG BAN, SPONS...</td>\n",
       "      <td>SUPPORT</td>\n",
       "      <td>105,000.00</td>\n",
       "    </tr>\n",
       "    <tr>\n",
       "      <th>337</th>\n",
       "      <td>CLAIRE PERRY</td>\n",
       "      <td>YES ON 67 - PROTECT THE PLASTIC BAG BAN, SPONS...</td>\n",
       "      <td>SUPPORT</td>\n",
       "      <td>100,000.00</td>\n",
       "    </tr>\n",
       "    <tr>\n",
       "      <th>224</th>\n",
       "      <td>CALIFORNIA GROCERS ASSOCIATION ISSUES COMMITTE...</td>\n",
       "      <td>YES ON 67 - PROTECT THE PLASTIC BAG BAN, SPONS...</td>\n",
       "      <td>SUPPORT</td>\n",
       "      <td>100,000.00</td>\n",
       "    </tr>\n",
       "    <tr>\n",
       "      <th>1622</th>\n",
       "      <td>RALPHS/FOOD 4 LESS</td>\n",
       "      <td>YES ON 67 - PROTECT THE PLASTIC BAG BAN, SPONS...</td>\n",
       "      <td>SUPPORT</td>\n",
       "      <td>80,000.00</td>\n",
       "    </tr>\n",
       "    <tr>\n",
       "      <th>1937</th>\n",
       "      <td>THOMAS F STEYER</td>\n",
       "      <td>YES ON 67 - PROTECT THE PLASTIC BAG BAN, SPONS...</td>\n",
       "      <td>SUPPORT</td>\n",
       "      <td>50,000.00</td>\n",
       "    </tr>\n",
       "    <tr>\n",
       "      <th>1925</th>\n",
       "      <td>THE NATURE CONSERVANCY</td>\n",
       "      <td>YES ON 67 - PROTECT THE PLASTIC BAG BAN, SPONS...</td>\n",
       "      <td>SUPPORT</td>\n",
       "      <td>50,000.00</td>\n",
       "    </tr>\n",
       "    <tr>\n",
       "      <th>1784</th>\n",
       "      <td>SAVE THE BAY (NONPROFIT 501(C)(3))</td>\n",
       "      <td>SAVE THE BAY ACTION FUND COMMITTEE TO SUPPORT ...</td>\n",
       "      <td>SUPPORT</td>\n",
       "      <td>50,000.00</td>\n",
       "    </tr>\n",
       "    <tr>\n",
       "      <th>1785</th>\n",
       "      <td>SAVE THE BAY ACTION FUND</td>\n",
       "      <td>SAVE THE BAY ACTION FUND COMMITTEE TO SUPPORT ...</td>\n",
       "      <td>SUPPORT</td>\n",
       "      <td>40,000.00</td>\n",
       "    </tr>\n",
       "  </tbody>\n",
       "</table>\n",
       "</div>"
      ],
      "text/plain": [
       "                                            Contributor  \\\n",
       "223                      CALIFORNIA GROCERS ASSOCIATION   \n",
       "28    ALBERTSONS SAFEWAY (FORMERLY KNOWN AS SAFEWAY,...   \n",
       "1030                                      JULIE PACKARD   \n",
       "337                                        CLAIRE PERRY   \n",
       "224   CALIFORNIA GROCERS ASSOCIATION ISSUES COMMITTE...   \n",
       "1622                                 RALPHS/FOOD 4 LESS   \n",
       "1937                                    THOMAS F STEYER   \n",
       "1925                             THE NATURE CONSERVANCY   \n",
       "1784                 SAVE THE BAY (NONPROFIT 501(C)(3))   \n",
       "1785                           SAVE THE BAY ACTION FUND   \n",
       "\n",
       "                                       committee_name_x committee_position  \\\n",
       "223   CALIFORNIA GROCERS ASSOCIATION ISSUES COMMITTE...            SUPPORT   \n",
       "28    YES ON 67 - PROTECT THE PLASTIC BAG BAN, SPONS...            SUPPORT   \n",
       "1030  YES ON 67 - PROTECT THE PLASTIC BAG BAN, SPONS...            SUPPORT   \n",
       "337   YES ON 67 - PROTECT THE PLASTIC BAG BAN, SPONS...            SUPPORT   \n",
       "224   YES ON 67 - PROTECT THE PLASTIC BAG BAN, SPONS...            SUPPORT   \n",
       "1622  YES ON 67 - PROTECT THE PLASTIC BAG BAN, SPONS...            SUPPORT   \n",
       "1937  YES ON 67 - PROTECT THE PLASTIC BAG BAN, SPONS...            SUPPORT   \n",
       "1925  YES ON 67 - PROTECT THE PLASTIC BAG BAN, SPONS...            SUPPORT   \n",
       "1784  SAVE THE BAY ACTION FUND COMMITTEE TO SUPPORT ...            SUPPORT   \n",
       "1785  SAVE THE BAY ACTION FUND COMMITTEE TO SUPPORT ...            SUPPORT   \n",
       "\n",
       "         amount  \n",
       "223  200,000.00  \n",
       "28   150,000.00  \n",
       "1030 105,000.00  \n",
       "337  100,000.00  \n",
       "224  100,000.00  \n",
       "1622  80,000.00  \n",
       "1937  50,000.00  \n",
       "1925  50,000.00  \n",
       "1784  50,000.00  \n",
       "1785  40,000.00  "
      ]
     },
     "execution_count": 39,
     "metadata": {},
     "output_type": "execute_result"
    }
   ],
   "source": [
    "support.groupby([\"Contributor\", \"committee_name_x\", \"committee_position\"]).amount.sum().reset_index().sort_values(\"amount\", ascending=False).head(10)"
   ]
  },
  {
   "cell_type": "code",
   "execution_count": 40,
   "metadata": {
    "collapsed": false
   },
   "outputs": [
    {
     "data": {
      "text/html": [
       "<div>\n",
       "<table border=\"1\" class=\"dataframe\">\n",
       "  <thead>\n",
       "    <tr style=\"text-align: right;\">\n",
       "      <th></th>\n",
       "      <th>Contributor</th>\n",
       "      <th>committee_name_x</th>\n",
       "      <th>committee_position</th>\n",
       "      <th>amount</th>\n",
       "    </tr>\n",
       "  </thead>\n",
       "  <tbody>\n",
       "    <tr>\n",
       "      <th>2</th>\n",
       "      <td>HILEX POLY CO. LLC</td>\n",
       "      <td>AMERICAN PROGRESSIVE BAG ALLIANCE, A PROJECT O...</td>\n",
       "      <td>OPPOSE</td>\n",
       "      <td>874,769.00</td>\n",
       "    </tr>\n",
       "    <tr>\n",
       "      <th>1</th>\n",
       "      <td>FORMOSA PLASTICS CORPORATION U.S.A.</td>\n",
       "      <td>AMERICAN PROGRESSIVE BAG ALLIANCE, A PROJECT O...</td>\n",
       "      <td>OPPOSE</td>\n",
       "      <td>748,441.50</td>\n",
       "    </tr>\n",
       "    <tr>\n",
       "      <th>4</th>\n",
       "      <td>SUPERBAG CORP.</td>\n",
       "      <td>AMERICAN PROGRESSIVE BAG ALLIANCE, A PROJECT O...</td>\n",
       "      <td>OPPOSE</td>\n",
       "      <td>609,369.75</td>\n",
       "    </tr>\n",
       "    <tr>\n",
       "      <th>0</th>\n",
       "      <td>ADVANCE POLYBAG, INC.</td>\n",
       "      <td>AMERICAN PROGRESSIVE BAG ALLIANCE, A PROJECT O...</td>\n",
       "      <td>OPPOSE</td>\n",
       "      <td>446,833.00</td>\n",
       "    </tr>\n",
       "    <tr>\n",
       "      <th>3</th>\n",
       "      <td>RESTORE CALIFORNIA  - JIM FRAZIER BALLOT MEASU...</td>\n",
       "      <td>AMERICAN PROGRESSIVE BAG ALLIANCE, A PROJECT O...</td>\n",
       "      <td>OPPOSE</td>\n",
       "      <td>2,000.00</td>\n",
       "    </tr>\n",
       "  </tbody>\n",
       "</table>\n",
       "</div>"
      ],
      "text/plain": [
       "                                         Contributor  \\\n",
       "2                                 HILEX POLY CO. LLC   \n",
       "1                FORMOSA PLASTICS CORPORATION U.S.A.   \n",
       "4                                     SUPERBAG CORP.   \n",
       "0                              ADVANCE POLYBAG, INC.   \n",
       "3  RESTORE CALIFORNIA  - JIM FRAZIER BALLOT MEASU...   \n",
       "\n",
       "                                    committee_name_x committee_position  \\\n",
       "2  AMERICAN PROGRESSIVE BAG ALLIANCE, A PROJECT O...             OPPOSE   \n",
       "1  AMERICAN PROGRESSIVE BAG ALLIANCE, A PROJECT O...             OPPOSE   \n",
       "4  AMERICAN PROGRESSIVE BAG ALLIANCE, A PROJECT O...             OPPOSE   \n",
       "0  AMERICAN PROGRESSIVE BAG ALLIANCE, A PROJECT O...             OPPOSE   \n",
       "3  AMERICAN PROGRESSIVE BAG ALLIANCE, A PROJECT O...             OPPOSE   \n",
       "\n",
       "      amount  \n",
       "2 874,769.00  \n",
       "1 748,441.50  \n",
       "4 609,369.75  \n",
       "0 446,833.00  \n",
       "3   2,000.00  "
      ]
     },
     "execution_count": 40,
     "metadata": {},
     "output_type": "execute_result"
    }
   ],
   "source": [
    "oppose.groupby([\"Contributor\", \"committee_name_x\", \"committee_position\"]).amount.sum().reset_index().sort_values(\"amount\", ascending=False).head(10)"
   ]
  },
  {
   "cell_type": "markdown",
   "metadata": {},
   "source": [
    "### Aggregate the contribution sums by committee position and CA or Out of State address for contributor for use in analyzing percent of contributions"
   ]
  },
  {
   "cell_type": "code",
   "execution_count": 41,
   "metadata": {
    "collapsed": false
   },
   "outputs": [],
   "source": [
    "support_tot = support.amount.sum()"
   ]
  },
  {
   "cell_type": "code",
   "execution_count": 42,
   "metadata": {
    "collapsed": false
   },
   "outputs": [],
   "source": [
    "oppose_tot = oppose.amount.sum()"
   ]
  },
  {
   "cell_type": "code",
   "execution_count": 43,
   "metadata": {
    "collapsed": true
   },
   "outputs": [],
   "source": [
    "percent_support = support_tot / (support_tot + oppose_tot)"
   ]
  },
  {
   "cell_type": "code",
   "execution_count": 44,
   "metadata": {
    "collapsed": true
   },
   "outputs": [],
   "source": [
    "percent_oppose = oppose_tot/(support_tot + oppose_tot)"
   ]
  },
  {
   "cell_type": "code",
   "execution_count": 45,
   "metadata": {
    "collapsed": false
   },
   "outputs": [
    {
     "data": {
      "text/plain": [
       "0.40020828421585236"
      ]
     },
     "execution_count": 45,
     "metadata": {},
     "output_type": "execute_result"
    }
   ],
   "source": [
    "percent_support"
   ]
  },
  {
   "cell_type": "code",
   "execution_count": 46,
   "metadata": {
    "collapsed": false
   },
   "outputs": [
    {
     "data": {
      "text/plain": [
       "0.5997917157841476"
      ]
     },
     "execution_count": 46,
     "metadata": {},
     "output_type": "execute_result"
    }
   ],
   "source": [
    "percent_oppose"
   ]
  },
  {
   "cell_type": "code",
   "execution_count": 47,
   "metadata": {
    "collapsed": false
   },
   "outputs": [],
   "source": [
    "support_CA = merged[(merged.committee_position == \"SUPPORT\") & (merged.Source_St ==\"CA\")]"
   ]
  },
  {
   "cell_type": "code",
   "execution_count": 48,
   "metadata": {
    "collapsed": true
   },
   "outputs": [],
   "source": [
    "support_OTH = merged[(merged.committee_position == \"SUPPORT\") & (merged.Source_St ==\"OTH\")]"
   ]
  },
  {
   "cell_type": "code",
   "execution_count": 49,
   "metadata": {
    "collapsed": true
   },
   "outputs": [],
   "source": [
    "oppose_CA = merged[(merged.committee_position == \"OPPOSE\") & (merged.Source_St ==\"CA\")]"
   ]
  },
  {
   "cell_type": "code",
   "execution_count": 50,
   "metadata": {
    "collapsed": true
   },
   "outputs": [],
   "source": [
    "oppose_OTH = merged[(merged.committee_position == \"OPPOSE\") & (merged.Source_St ==\"OTH\")]"
   ]
  },
  {
   "cell_type": "code",
   "execution_count": 51,
   "metadata": {
    "collapsed": false
   },
   "outputs": [],
   "source": [
    "support_CA_tot = support_CA.amount.sum()"
   ]
  },
  {
   "cell_type": "code",
   "execution_count": 52,
   "metadata": {
    "collapsed": false
   },
   "outputs": [],
   "source": [
    "support_OTH_tot = support_OTH.amount.sum()"
   ]
  },
  {
   "cell_type": "code",
   "execution_count": 53,
   "metadata": {
    "collapsed": false
   },
   "outputs": [],
   "source": [
    "oppose_CA_tot = oppose_CA.amount.sum()"
   ]
  },
  {
   "cell_type": "code",
   "execution_count": 54,
   "metadata": {
    "collapsed": false
   },
   "outputs": [],
   "source": [
    "oppose_OTH_tot = oppose_OTH.amount.sum()"
   ]
  },
  {
   "cell_type": "code",
   "execution_count": 55,
   "metadata": {
    "collapsed": false
   },
   "outputs": [
    {
     "data": {
      "text/plain": [
       "764.188375"
      ]
     },
     "execution_count": 55,
     "metadata": {},
     "output_type": "execute_result"
    }
   ],
   "source": [
    "support_CA.amount.sum()/oppose_CA.amount.sum()"
   ]
  },
  {
   "cell_type": "markdown",
   "metadata": {},
   "source": [
    "### Use the amounts calculated to generate percent CA vs Out of State money for each faction and create a data frame with these values for plotting."
   ]
  },
  {
   "cell_type": "code",
   "execution_count": 56,
   "metadata": {
    "collapsed": false
   },
   "outputs": [],
   "source": [
    "graph_data = {'Type':['All', 'Support', 'Oppose'], 'CA':[(support_CA_tot + oppose_CA_tot)/(support_tot + oppose_tot) * 100,(support_CA_tot/support_tot) *100, (oppose_CA_tot/oppose_tot) *100], 'Out of State':[(oppose_OTH_tot + support_OTH_tot)/(support_tot + oppose_tot) *100, (support_OTH_tot/support_tot)*100, (oppose_OTH_tot/oppose_tot)*100]}"
   ]
  },
  {
   "cell_type": "code",
   "execution_count": 57,
   "metadata": {
    "collapsed": false
   },
   "outputs": [
    {
     "data": {
      "text/html": [
       "<div>\n",
       "<table border=\"1\" class=\"dataframe\">\n",
       "  <thead>\n",
       "    <tr style=\"text-align: right;\">\n",
       "      <th></th>\n",
       "      <th>Type</th>\n",
       "      <th>CA</th>\n",
       "      <th>Out of State</th>\n",
       "    </tr>\n",
       "  </thead>\n",
       "  <tbody>\n",
       "    <tr>\n",
       "      <th>0</th>\n",
       "      <td>All</td>\n",
       "      <td>34.23</td>\n",
       "      <td>65.77</td>\n",
       "    </tr>\n",
       "    <tr>\n",
       "      <th>1</th>\n",
       "      <td>Support</td>\n",
       "      <td>85.42</td>\n",
       "      <td>14.58</td>\n",
       "    </tr>\n",
       "    <tr>\n",
       "      <th>2</th>\n",
       "      <td>Oppose</td>\n",
       "      <td>0.07</td>\n",
       "      <td>99.93</td>\n",
       "    </tr>\n",
       "  </tbody>\n",
       "</table>\n",
       "</div>"
      ],
      "text/plain": [
       "      Type    CA  Out of State\n",
       "0      All 34.23         65.77\n",
       "1  Support 85.42         14.58\n",
       "2   Oppose  0.07         99.93"
      ]
     },
     "execution_count": 57,
     "metadata": {},
     "output_type": "execute_result"
    }
   ],
   "source": [
    "df = pd.DataFrame(graph_data, columns = ['Type', 'CA', 'Out of State'])\n",
    "df"
   ]
  },
  {
   "cell_type": "markdown",
   "metadata": {},
   "source": [
    "### Make  Plot"
   ]
  },
  {
   "cell_type": "code",
   "execution_count": 62,
   "metadata": {
    "collapsed": false
   },
   "outputs": [
    {
     "data": {
      "image/png": "[encoded data removed]",
      "text/plain": [
       "<matplotlib.figure.Figure at 0xa0a2710>"
      ]
     },
     "metadata": {},
     "output_type": "display_data"
    }
   ],
   "source": [
    "# Setting the positions and width for the bars\n",
    "pos = list(range(len(df['CA'])))\n",
    "width = 0.25\n",
    "\n",
    "# Plotting the bars\n",
    "fig, ax = plt.subplots(figsize=(10,5))\n",
    "\n",
    "# Create a bar with CA,\n",
    "# in position pos,\n",
    "plt.bar(pos,\n",
    "        #using df['CA'] data,\n",
    "        df['CA'],\n",
    "        # of width\n",
    "        width,\n",
    "        # with alpha 0.5\n",
    "        alpha=0.5,\n",
    "        # with color\n",
    "        color='#EE3224',\n",
    "        # with label the first value in first_name\n",
    "        label=df['Type'][0])\n",
    "\n",
    "# Create a bar with Out of State,\n",
    "# in position pos + some width buffer,\n",
    "plt.bar([p + width for p in pos],\n",
    "        #using df['Out of State'] data,\n",
    "        df['Out of State'],\n",
    "        # of width\n",
    "        width,\n",
    "        # with alpha 0.5\n",
    "        alpha=0.5,\n",
    "        # with color\n",
    "        color='#F78F1E',\n",
    "        # with label the second value in first_name\n",
    "        label=df['Type'][1])\n",
    "\n",
    "\n",
    "\n",
    "# Set the y axis label\n",
    "ax.set_ylabel('% Large Donor Contributions')\n",
    "\n",
    "# Set the chart's title\n",
    "ax.set_title('Proposition 67 CA vs Out of State Large Donor Contributors')\n",
    "\n",
    "# Set the position of the x ticks\n",
    "ax.set_xticks([p + 1.5 * width for p in pos])\n",
    "\n",
    "# Set the labels for the x ticks\n",
    "ax.set_xticklabels(df['Type'])\n",
    "\n",
    "# Setting the x-axis and y-axis limits\n",
    "plt.xlim(min(pos)-width, max(pos)+width*4)\n",
    "plt.ylim([0, max(df['CA'] + df['Out of State'])] )\n",
    "\n",
    "# Adding the legend and showing the plot\n",
    "plt.legend(['CA', 'Out of State'], loc='upper left')\n",
    "#plt.grid()\n",
    "plt.show()"
   ]
  },
  {
   "cell_type": "code",
   "execution_count": null,
   "metadata": {
    "collapsed": true
   },
   "outputs": [],
   "source": []
  }
 ],
 "metadata": {
  "anaconda-cloud": {},
  "kernelspec": {
   "display_name": "Python [default]",
   "language": "python",
   "name": "python2"
  },
  "language_info": {
   "codemirror_mode": {
    "name": "ipython",
    "version": 2
   },
   "file_extension": ".py",
   "mimetype": "text/x-python",
   "name": "python",
   "nbconvert_exporter": "python",
   "pygments_lexer": "ipython2",
   "version": "2.7.12"
  }
 },
 "nbformat": 4,
 "nbformat_minor": 1
}
