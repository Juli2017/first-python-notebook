{
 "cells": [
  {
   "cell_type": "markdown",
   "metadata": {},
   "source": [
    "# CA Prop 67 Analysis\n",
    "\n",
    "By Juli Armstrong \n",
    "\n",
    "Analysis of California Prop 67 from November 2016 election"
   ]
  },
  {
   "cell_type": "code",
   "execution_count": 1,
   "metadata": {
    "collapsed": true
   },
   "outputs": [],
   "source": [
    "import pandas as pd"
   ]
  },
  {
   "cell_type": "code",
   "execution_count": 2,
   "metadata": {
    "collapsed": true
   },
   "outputs": [],
   "source": [
    "import numpy as np"
   ]
  },
  {
   "cell_type": "code",
   "execution_count": 66,
   "metadata": {
    "collapsed": true
   },
   "outputs": [],
   "source": [
    "%matplotlib inline"
   ]
  },
  {
   "cell_type": "code",
   "execution_count": 67,
   "metadata": {
    "collapsed": true
   },
   "outputs": [],
   "source": [
    "import matplotlib.pyplot as plt"
   ]
  },
  {
   "cell_type": "code",
   "execution_count": 40,
   "metadata": {
    "collapsed": true
   },
   "outputs": [],
   "source": [
    "pd.options.display.float_format = '{:,.2f}'.format"
   ]
  },
  {
   "cell_type": "markdown",
   "metadata": {},
   "source": [
    "Reading in the list of propositions"
   ]
  },
  {
   "cell_type": "code",
   "execution_count": 3,
   "metadata": {
    "collapsed": false
   },
   "outputs": [],
   "source": [
    "props = pd.read_csv(\"http://www.firstpythonnotebook.org/_static/committees.csv\")"
   ]
  },
  {
   "cell_type": "code",
   "execution_count": 4,
   "metadata": {
    "collapsed": false
   },
   "outputs": [
    {
     "name": "stdout",
     "output_type": "stream",
     "text": [
      "<class 'pandas.core.frame.DataFrame'>\n",
      "RangeIndex: 102 entries, 0 to 101\n",
      "Data columns (total 8 columns):\n",
      "ocd_prop_id               102 non-null object\n",
      "calaccess_prop_id         102 non-null int64\n",
      "ccdc_prop_id              102 non-null int64\n",
      "prop_name                 102 non-null object\n",
      "ccdc_committee_id         102 non-null int64\n",
      "calaccess_committee_id    102 non-null int64\n",
      "committee_name            102 non-null object\n",
      "committee_position        102 non-null object\n",
      "dtypes: int64(4), object(4)\n",
      "memory usage: 4.8+ KB\n"
     ]
    }
   ],
   "source": [
    "props.info()"
   ]
  },
  {
   "cell_type": "markdown",
   "metadata": {},
   "source": [
    "Reading in the list of contributions for the ballot measures.  I inserted a column, Source_St so that I could easily group contributions from California addresses versus out of California addresses.  I handled the missing data in the contributor first and last name columns, and then created a concatenated column, Contributor, that combined the values in those two columns, stripping off any leading or trailing spaces."
   ]
  },
  {
   "cell_type": "code",
   "execution_count": 5,
   "metadata": {
    "collapsed": false
   },
   "outputs": [],
   "source": [
    "contribs = pd.read_csv(\"http://www.firstpythonnotebook.org/_static/contributions.csv\")"
   ]
  },
  {
   "cell_type": "code",
   "execution_count": 6,
   "metadata": {
    "collapsed": true
   },
   "outputs": [],
   "source": [
    "contribs.contributor_lastname = contribs.contributor_lastname.fillna('')"
   ]
  },
  {
   "cell_type": "code",
   "execution_count": 7,
   "metadata": {
    "collapsed": true
   },
   "outputs": [],
   "source": [
    "contribs.contributor_firstname = contribs.contributor_firstname.fillna('')"
   ]
  },
  {
   "cell_type": "code",
   "execution_count": 10,
   "metadata": {
    "collapsed": false
   },
   "outputs": [],
   "source": [
    "contribs['Source_St']= np.where(contribs['contributor_state'] == 'CA', 'CA','OTH')"
   ]
  },
  {
   "cell_type": "code",
   "execution_count": 18,
   "metadata": {
    "collapsed": true
   },
   "outputs": [],
   "source": [
    "contribs['Contributor']= contribs['contributor_firstname']+ ' ' + contribs['contributor_lastname']"
   ]
  },
  {
   "cell_type": "code",
   "execution_count": 24,
   "metadata": {
    "collapsed": false
   },
   "outputs": [],
   "source": [
    "contribs['Contributor']= contribs['Contributor'].str.strip()"
   ]
  },
  {
   "cell_type": "code",
   "execution_count": 11,
   "metadata": {
    "collapsed": false
   },
   "outputs": [
    {
     "name": "stdout",
     "output_type": "stream",
     "text": [
      "<class 'pandas.core.frame.DataFrame'>\n",
      "RangeIndex: 56379 entries, 0 to 56378\n",
      "Data columns (total 14 columns):\n",
      "calaccess_committee_id          56379 non-null int64\n",
      "committee_name                  56379 non-null object\n",
      "calaccess_filing_id             56379 non-null int64\n",
      "date_received                   56379 non-null object\n",
      "contributor_lastname            56379 non-null object\n",
      "contributor_firstname           56379 non-null object\n",
      "contributor_city                56369 non-null object\n",
      "contributor_state               56363 non-null object\n",
      "contributor_zip                 56366 non-null object\n",
      "contributor_employer            48572 non-null object\n",
      "contributor_occupation          53273 non-null object\n",
      "contributor_is_self_employed    56379 non-null bool\n",
      "amount                          56379 non-null float64\n",
      "Source_St                       56379 non-null object\n",
      "dtypes: bool(1), float64(1), int64(2), object(10)\n",
      "memory usage: 3.5+ MB\n"
     ]
    }
   ],
   "source": [
    "contribs.info()"
   ]
  },
  {
   "cell_type": "markdown",
   "metadata": {},
   "source": [
    "## Filter the list of propositions for the proposition of interest, Prop 67."
   ]
  },
  {
   "cell_type": "code",
   "execution_count": 12,
   "metadata": {
    "collapsed": false
   },
   "outputs": [],
   "source": [
    "prop_67 = props[props.prop_name == 'PROPOSITION 067- REFERENDUM TO OVERTURN BAN ON SINGLE-USE PLASTIC BAGS.']"
   ]
  },
  {
   "cell_type": "code",
   "execution_count": 18,
   "metadata": {
    "collapsed": false
   },
   "outputs": [
    {
     "name": "stdout",
     "output_type": "stream",
     "text": [
      "<class 'pandas.core.frame.DataFrame'>\n",
      "Int64Index: 7 entries, 95 to 101\n",
      "Data columns (total 8 columns):\n",
      "ocd_prop_id               7 non-null object\n",
      "calaccess_prop_id         7 non-null int64\n",
      "ccdc_prop_id              7 non-null int64\n",
      "prop_name                 7 non-null object\n",
      "ccdc_committee_id         7 non-null int64\n",
      "calaccess_committee_id    7 non-null int64\n",
      "committee_name            7 non-null object\n",
      "committee_position        7 non-null object\n",
      "dtypes: int64(4), object(4)\n",
      "memory usage: 392.0+ bytes\n"
     ]
    }
   ],
   "source": [
    "prop_67.info()"
   ]
  },
  {
   "cell_type": "markdown",
   "metadata": {},
   "source": [
    "## Merge the propostion and contribution data sets."
   ]
  },
  {
   "cell_type": "code",
   "execution_count": 25,
   "metadata": {
    "collapsed": false
   },
   "outputs": [],
   "source": [
    "merged = pd.merge(prop_67, contribs, on='calaccess_committee_id')"
   ]
  },
  {
   "cell_type": "code",
   "execution_count": 26,
   "metadata": {
    "collapsed": false
   },
   "outputs": [
    {
     "name": "stdout",
     "output_type": "stream",
     "text": [
      "<class 'pandas.core.frame.DataFrame'>\n",
      "Int64Index: 6279 entries, 0 to 6278\n",
      "Data columns (total 22 columns):\n",
      "ocd_prop_id                     6279 non-null object\n",
      "calaccess_prop_id               6279 non-null int64\n",
      "ccdc_prop_id                    6279 non-null int64\n",
      "prop_name                       6279 non-null object\n",
      "ccdc_committee_id               6279 non-null int64\n",
      "calaccess_committee_id          6279 non-null int64\n",
      "committee_name_x                6279 non-null object\n",
      "committee_position              6279 non-null object\n",
      "committee_name_y                6279 non-null object\n",
      "calaccess_filing_id             6279 non-null int64\n",
      "date_received                   6279 non-null object\n",
      "contributor_lastname            6279 non-null object\n",
      "contributor_firstname           6279 non-null object\n",
      "contributor_city                6279 non-null object\n",
      "contributor_state               6278 non-null object\n",
      "contributor_zip                 6278 non-null object\n",
      "contributor_employer            6092 non-null object\n",
      "contributor_occupation          6092 non-null object\n",
      "contributor_is_self_employed    6279 non-null bool\n",
      "amount                          6279 non-null float64\n",
      "Source_St                       6279 non-null object\n",
      "Contributor                     6279 non-null object\n",
      "dtypes: bool(1), float64(1), int64(5), object(15)\n",
      "memory usage: 717.4+ KB\n"
     ]
    }
   ],
   "source": [
    "merged.info()"
   ]
  },
  {
   "cell_type": "code",
   "execution_count": 22,
   "metadata": {
    "collapsed": false
   },
   "outputs": [
    {
     "data": {
      "text/plain": [
       "4470574.0"
      ]
     },
     "execution_count": 22,
     "metadata": {},
     "output_type": "execute_result"
    }
   ],
   "source": [
    "merged.amount.sum()"
   ]
  },
  {
   "cell_type": "code",
   "execution_count": 23,
   "metadata": {
    "collapsed": false
   },
   "outputs": [
    {
     "data": {
      "text/plain": [
       "SUPPORT    6252\n",
       "OPPOSE       27\n",
       "Name: committee_position, dtype: int64"
      ]
     },
     "execution_count": 23,
     "metadata": {},
     "output_type": "execute_result"
    }
   ],
   "source": [
    "merged.committee_position.value_counts()"
   ]
  },
  {
   "cell_type": "markdown",
   "metadata": {},
   "source": [
    "### The total large donor amount contributed for Prop 67 was 4,470,574 dollars.  There were far more individual contributions in support of the proposition: 6,252 than opposed to it: 27.\n",
    "\n",
    "### By pivoting the contribution sums by committee position (support/oppose) and by contributor state, it is clear that more out of State contributions made up the opposition (26 out of 27 contributions) and more in State contributions made up the supporting money (6,1555 out of 6,252 contributions)."
   ]
  },
  {
   "cell_type": "code",
   "execution_count": 53,
   "metadata": {
    "collapsed": false
   },
   "outputs": [
    {
     "data": {
      "text/html": [
       "<div>\n",
       "<table border=\"1\" class=\"dataframe\">\n",
       "  <thead>\n",
       "    <tr>\n",
       "      <th></th>\n",
       "      <th colspan=\"3\" halign=\"left\">sum</th>\n",
       "      <th colspan=\"3\" halign=\"left\">len</th>\n",
       "    </tr>\n",
       "    <tr>\n",
       "      <th></th>\n",
       "      <th colspan=\"3\" halign=\"left\">amount</th>\n",
       "      <th colspan=\"3\" halign=\"left\">amount</th>\n",
       "    </tr>\n",
       "    <tr>\n",
       "      <th>committee_position</th>\n",
       "      <th>OPPOSE</th>\n",
       "      <th>SUPPORT</th>\n",
       "      <th>All</th>\n",
       "      <th>OPPOSE</th>\n",
       "      <th>SUPPORT</th>\n",
       "      <th>All</th>\n",
       "    </tr>\n",
       "    <tr>\n",
       "      <th>Source_St</th>\n",
       "      <th></th>\n",
       "      <th></th>\n",
       "      <th></th>\n",
       "      <th></th>\n",
       "      <th></th>\n",
       "      <th></th>\n",
       "    </tr>\n",
       "  </thead>\n",
       "  <tbody>\n",
       "    <tr>\n",
       "      <th>CA</th>\n",
       "      <td>2,000.00</td>\n",
       "      <td>1,528,377.00</td>\n",
       "      <td>1,530,376.75</td>\n",
       "      <td>1.00</td>\n",
       "      <td>6,155.00</td>\n",
       "      <td>6,156.00</td>\n",
       "    </tr>\n",
       "    <tr>\n",
       "      <th>OTH</th>\n",
       "      <td>2,679,413.00</td>\n",
       "      <td>260,784.00</td>\n",
       "      <td>2,940,197.25</td>\n",
       "      <td>26.00</td>\n",
       "      <td>97.00</td>\n",
       "      <td>123.00</td>\n",
       "    </tr>\n",
       "    <tr>\n",
       "      <th>All</th>\n",
       "      <td>2,681,413.25</td>\n",
       "      <td>1,789,160.75</td>\n",
       "      <td>4,470,574.00</td>\n",
       "      <td>27.00</td>\n",
       "      <td>6,252.00</td>\n",
       "      <td>6,279.00</td>\n",
       "    </tr>\n",
       "  </tbody>\n",
       "</table>\n",
       "</div>"
      ],
      "text/plain": [
       "                            sum                              len           \\\n",
       "                         amount                           amount            \n",
       "committee_position       OPPOSE      SUPPORT          All OPPOSE  SUPPORT   \n",
       "Source_St                                                                   \n",
       "CA                     2,000.00 1,528,377.00 1,530,376.75   1.00 6,155.00   \n",
       "OTH                2,679,413.00   260,784.00 2,940,197.25  26.00    97.00   \n",
       "All                2,681,413.25 1,789,160.75 4,470,574.00  27.00 6,252.00   \n",
       "\n",
       "                             \n",
       "                             \n",
       "committee_position      All  \n",
       "Source_St                    \n",
       "CA                 6,156.00  \n",
       "OTH                  123.00  \n",
       "All                6,279.00  "
      ]
     },
     "execution_count": 53,
     "metadata": {},
     "output_type": "execute_result"
    }
   ],
   "source": [
    "pd.pivot_table(merged,index=[\"Source_St\"],values=[\"amount\"],\n",
    "               columns=[\"committee_position\"],aggfunc=[np.sum, len],fill_value=0,margins=True)"
   ]
  },
  {
   "cell_type": "markdown",
   "metadata": {},
   "source": [
    "### Six committees were used to support or oppose Prop 67.  The majority of money collected by these committees came from the American Progressive Bag Alliance, opposing the proposition with 2,681,413.25 dollars.  All of the opposition money came from this single committee.  The other five committees collected money in support of the proposition."
   ]
  },
  {
   "cell_type": "code",
   "execution_count": 48,
   "metadata": {
    "collapsed": false
   },
   "outputs": [
    {
     "data": {
      "text/html": [
       "<div>\n",
       "<table border=\"1\" class=\"dataframe\">\n",
       "  <thead>\n",
       "    <tr style=\"text-align: right;\">\n",
       "      <th></th>\n",
       "      <th>committee_name_x</th>\n",
       "      <th>committee_position</th>\n",
       "      <th>amount</th>\n",
       "    </tr>\n",
       "  </thead>\n",
       "  <tbody>\n",
       "    <tr>\n",
       "      <th>0</th>\n",
       "      <td>AMERICAN PROGRESSIVE BAG ALLIANCE, A PROJECT O...</td>\n",
       "      <td>OPPOSE</td>\n",
       "      <td>2,681,413.25</td>\n",
       "    </tr>\n",
       "    <tr>\n",
       "      <th>5</th>\n",
       "      <td>YES ON 67 - PROTECT THE PLASTIC BAG BAN, SPONS...</td>\n",
       "      <td>SUPPORT</td>\n",
       "      <td>861,295.75</td>\n",
       "    </tr>\n",
       "    <tr>\n",
       "      <th>2</th>\n",
       "      <td>SAVE THE BAG BAN, YES ON 67, SPONSORED BY ENVI...</td>\n",
       "      <td>SUPPORT</td>\n",
       "      <td>609,365.00</td>\n",
       "    </tr>\n",
       "    <tr>\n",
       "      <th>1</th>\n",
       "      <td>CALIFORNIA GROCERS ASSOCIATION ISSUES COMMITTE...</td>\n",
       "      <td>SUPPORT</td>\n",
       "      <td>200,000.00</td>\n",
       "    </tr>\n",
       "    <tr>\n",
       "      <th>3</th>\n",
       "      <td>SAVE THE BAY ACTION FUND COMMITTEE TO SUPPORT ...</td>\n",
       "      <td>SUPPORT</td>\n",
       "      <td>97,050.00</td>\n",
       "    </tr>\n",
       "    <tr>\n",
       "      <th>4</th>\n",
       "      <td>YES ON 67 - CALIFORNIANS AGAINST WASTE - PROTE...</td>\n",
       "      <td>SUPPORT</td>\n",
       "      <td>21,450.00</td>\n",
       "    </tr>\n",
       "  </tbody>\n",
       "</table>\n",
       "</div>"
      ],
      "text/plain": [
       "                                    committee_name_x committee_position  \\\n",
       "0  AMERICAN PROGRESSIVE BAG ALLIANCE, A PROJECT O...             OPPOSE   \n",
       "5  YES ON 67 - PROTECT THE PLASTIC BAG BAN, SPONS...            SUPPORT   \n",
       "2  SAVE THE BAG BAN, YES ON 67, SPONSORED BY ENVI...            SUPPORT   \n",
       "1  CALIFORNIA GROCERS ASSOCIATION ISSUES COMMITTE...            SUPPORT   \n",
       "3  SAVE THE BAY ACTION FUND COMMITTEE TO SUPPORT ...            SUPPORT   \n",
       "4  YES ON 67 - CALIFORNIANS AGAINST WASTE - PROTE...            SUPPORT   \n",
       "\n",
       "        amount  \n",
       "0 2,681,413.25  \n",
       "5   861,295.75  \n",
       "2   609,365.00  \n",
       "1   200,000.00  \n",
       "3    97,050.00  \n",
       "4    21,450.00  "
      ]
     },
     "execution_count": 48,
     "metadata": {},
     "output_type": "execute_result"
    }
   ],
   "source": [
    "merged.groupby([\"committee_name_x\",\"committee_position\"]).amount.sum().reset_index().sort_values(\"amount\", ascending=False)"
   ]
  },
  {
   "cell_type": "markdown",
   "metadata": {},
   "source": [
    "Filtering by committee position of the contributions makes it possible to identify the top ten contributors supporting and opposing the proposition as well as the total contributions by State."
   ]
  },
  {
   "cell_type": "code",
   "execution_count": 32,
   "metadata": {
    "collapsed": true
   },
   "outputs": [],
   "source": [
    "support = merged[merged.committee_position == \"SUPPORT\"]"
   ]
  },
  {
   "cell_type": "code",
   "execution_count": 33,
   "metadata": {
    "collapsed": false
   },
   "outputs": [
    {
     "name": "stdout",
     "output_type": "stream",
     "text": [
      "<class 'pandas.core.frame.DataFrame'>\n",
      "Int64Index: 6252 entries, 0 to 6278\n",
      "Data columns (total 22 columns):\n",
      "ocd_prop_id                     6252 non-null object\n",
      "calaccess_prop_id               6252 non-null int64\n",
      "ccdc_prop_id                    6252 non-null int64\n",
      "prop_name                       6252 non-null object\n",
      "ccdc_committee_id               6252 non-null int64\n",
      "calaccess_committee_id          6252 non-null int64\n",
      "committee_name_x                6252 non-null object\n",
      "committee_position              6252 non-null object\n",
      "committee_name_y                6252 non-null object\n",
      "calaccess_filing_id             6252 non-null int64\n",
      "date_received                   6252 non-null object\n",
      "contributor_lastname            6252 non-null object\n",
      "contributor_firstname           6252 non-null object\n",
      "contributor_city                6252 non-null object\n",
      "contributor_state               6251 non-null object\n",
      "contributor_zip                 6251 non-null object\n",
      "contributor_employer            6092 non-null object\n",
      "contributor_occupation          6092 non-null object\n",
      "contributor_is_self_employed    6252 non-null bool\n",
      "amount                          6252 non-null float64\n",
      "Source_St                       6252 non-null object\n",
      "Contributor                     6252 non-null object\n",
      "dtypes: bool(1), float64(1), int64(5), object(15)\n",
      "memory usage: 714.3+ KB\n"
     ]
    }
   ],
   "source": [
    "support.info()"
   ]
  },
  {
   "cell_type": "code",
   "execution_count": 34,
   "metadata": {
    "collapsed": true
   },
   "outputs": [],
   "source": [
    "oppose = merged[merged.committee_position == \"OPPOSE\"]"
   ]
  },
  {
   "cell_type": "code",
   "execution_count": 35,
   "metadata": {
    "collapsed": false
   },
   "outputs": [
    {
     "name": "stdout",
     "output_type": "stream",
     "text": [
      "<class 'pandas.core.frame.DataFrame'>\n",
      "Int64Index: 27 entries, 128 to 154\n",
      "Data columns (total 22 columns):\n",
      "ocd_prop_id                     27 non-null object\n",
      "calaccess_prop_id               27 non-null int64\n",
      "ccdc_prop_id                    27 non-null int64\n",
      "prop_name                       27 non-null object\n",
      "ccdc_committee_id               27 non-null int64\n",
      "calaccess_committee_id          27 non-null int64\n",
      "committee_name_x                27 non-null object\n",
      "committee_position              27 non-null object\n",
      "committee_name_y                27 non-null object\n",
      "calaccess_filing_id             27 non-null int64\n",
      "date_received                   27 non-null object\n",
      "contributor_lastname            27 non-null object\n",
      "contributor_firstname           27 non-null object\n",
      "contributor_city                27 non-null object\n",
      "contributor_state               27 non-null object\n",
      "contributor_zip                 27 non-null object\n",
      "contributor_employer            0 non-null object\n",
      "contributor_occupation          0 non-null object\n",
      "contributor_is_self_employed    27 non-null bool\n",
      "amount                          27 non-null float64\n",
      "Source_St                       27 non-null object\n",
      "Contributor                     27 non-null object\n",
      "dtypes: bool(1), float64(1), int64(5), object(15)\n",
      "memory usage: 3.1+ KB\n"
     ]
    }
   ],
   "source": [
    "oppose.info()"
   ]
  },
  {
   "cell_type": "code",
   "execution_count": 62,
   "metadata": {
    "collapsed": false
   },
   "outputs": [],
   "source": [
    "top_supporters = support.groupby([\"contributor_state\", \"committee_position\"]).amount.sum().reset_index().sort_values(\"amount\", ascending=False)"
   ]
  },
  {
   "cell_type": "code",
   "execution_count": 81,
   "metadata": {
    "collapsed": false
   },
   "outputs": [
    {
     "data": {
      "image/png": "[encoded data removed]",
      "text/plain": [
       "<matplotlib.figure.Figure at 0xd03a470>"
      ]
     },
     "metadata": {},
     "output_type": "display_data"
    }
   ],
   "source": [
    "chart =top_supporters.head(5).amount.plot.barh()\n",
    "chart.set_yticklabels(top_supporters.contributor_state)\n",
    "chart.set_xlabel('Total Large Donor Contributions (dollars)')\n",
    "chart.set_ylabel('Contribution State')\n",
    "chart.set_title('Prop 67 Support Contributions By State')\n",
    "chart.tick_params(labelsize=8)"
   ]
  },
  {
   "cell_type": "code",
   "execution_count": 70,
   "metadata": {
    "collapsed": false
   },
   "outputs": [],
   "source": [
    "top_opposers = oppose.groupby([\"contributor_state\", \"committee_position\"]).amount.sum().reset_index().sort_values(\"amount\", ascending=False)"
   ]
  },
  {
   "cell_type": "code",
   "execution_count": 82,
   "metadata": {
    "collapsed": false
   },
   "outputs": [
    {
     "data": {
      "image/png": "[encoded data removed]",
      "text/plain": [
       "<matplotlib.figure.Figure at 0xd20f310>"
      ]
     },
     "metadata": {},
     "output_type": "display_data"
    }
   ],
   "source": [
    "chart =top_opposers.head(5).amount.plot.barh()\n",
    "chart.set_yticklabels(top_opposers.contributor_state)\n",
    "chart.set_xlabel('Total Large Donor Contributions (dollars)')\n",
    "chart.set_ylabel('Contribution State')\n",
    "chart.set_title('Prop 67 Opposition Contributions By State')\n",
    "chart.tick_params(labelsize=8)"
   ]
  },
  {
   "cell_type": "markdown",
   "metadata": {},
   "source": [
    "### Get Top 10 Contributors for Support and Opposition of Proposition 67"
   ]
  },
  {
   "cell_type": "code",
   "execution_count": 61,
   "metadata": {
    "collapsed": false
   },
   "outputs": [
    {
     "data": {
      "text/html": [
       "<div>\n",
       "<table border=\"1\" class=\"dataframe\">\n",
       "  <thead>\n",
       "    <tr style=\"text-align: right;\">\n",
       "      <th></th>\n",
       "      <th>Contributor</th>\n",
       "      <th>committee_name_x</th>\n",
       "      <th>committee_position</th>\n",
       "      <th>amount</th>\n",
       "    </tr>\n",
       "  </thead>\n",
       "  <tbody>\n",
       "    <tr>\n",
       "      <th>223</th>\n",
       "      <td>CALIFORNIA GROCERS ASSOCIATION</td>\n",
       "      <td>CALIFORNIA GROCERS ASSOCIATION ISSUES COMMITTE...</td>\n",
       "      <td>SUPPORT</td>\n",
       "      <td>200,000.00</td>\n",
       "    </tr>\n",
       "    <tr>\n",
       "      <th>28</th>\n",
       "      <td>ALBERTSONS SAFEWAY (FORMERLY KNOWN AS SAFEWAY,...</td>\n",
       "      <td>YES ON 67 - PROTECT THE PLASTIC BAG BAN, SPONS...</td>\n",
       "      <td>SUPPORT</td>\n",
       "      <td>150,000.00</td>\n",
       "    </tr>\n",
       "    <tr>\n",
       "      <th>1030</th>\n",
       "      <td>JULIE PACKARD</td>\n",
       "      <td>YES ON 67 - PROTECT THE PLASTIC BAG BAN, SPONS...</td>\n",
       "      <td>SUPPORT</td>\n",
       "      <td>105,000.00</td>\n",
       "    </tr>\n",
       "    <tr>\n",
       "      <th>337</th>\n",
       "      <td>CLAIRE PERRY</td>\n",
       "      <td>YES ON 67 - PROTECT THE PLASTIC BAG BAN, SPONS...</td>\n",
       "      <td>SUPPORT</td>\n",
       "      <td>100,000.00</td>\n",
       "    </tr>\n",
       "    <tr>\n",
       "      <th>224</th>\n",
       "      <td>CALIFORNIA GROCERS ASSOCIATION ISSUES COMMITTE...</td>\n",
       "      <td>YES ON 67 - PROTECT THE PLASTIC BAG BAN, SPONS...</td>\n",
       "      <td>SUPPORT</td>\n",
       "      <td>100,000.00</td>\n",
       "    </tr>\n",
       "    <tr>\n",
       "      <th>1622</th>\n",
       "      <td>RALPHS/FOOD 4 LESS</td>\n",
       "      <td>YES ON 67 - PROTECT THE PLASTIC BAG BAN, SPONS...</td>\n",
       "      <td>SUPPORT</td>\n",
       "      <td>80,000.00</td>\n",
       "    </tr>\n",
       "    <tr>\n",
       "      <th>1937</th>\n",
       "      <td>THOMAS F STEYER</td>\n",
       "      <td>YES ON 67 - PROTECT THE PLASTIC BAG BAN, SPONS...</td>\n",
       "      <td>SUPPORT</td>\n",
       "      <td>50,000.00</td>\n",
       "    </tr>\n",
       "    <tr>\n",
       "      <th>1925</th>\n",
       "      <td>THE NATURE CONSERVANCY</td>\n",
       "      <td>YES ON 67 - PROTECT THE PLASTIC BAG BAN, SPONS...</td>\n",
       "      <td>SUPPORT</td>\n",
       "      <td>50,000.00</td>\n",
       "    </tr>\n",
       "    <tr>\n",
       "      <th>1784</th>\n",
       "      <td>SAVE THE BAY (NONPROFIT 501(C)(3))</td>\n",
       "      <td>SAVE THE BAY ACTION FUND COMMITTEE TO SUPPORT ...</td>\n",
       "      <td>SUPPORT</td>\n",
       "      <td>50,000.00</td>\n",
       "    </tr>\n",
       "    <tr>\n",
       "      <th>1785</th>\n",
       "      <td>SAVE THE BAY ACTION FUND</td>\n",
       "      <td>SAVE THE BAY ACTION FUND COMMITTEE TO SUPPORT ...</td>\n",
       "      <td>SUPPORT</td>\n",
       "      <td>40,000.00</td>\n",
       "    </tr>\n",
       "  </tbody>\n",
       "</table>\n",
       "</div>"
      ],
      "text/plain": [
       "                                            Contributor  \\\n",
       "223                      CALIFORNIA GROCERS ASSOCIATION   \n",
       "28    ALBERTSONS SAFEWAY (FORMERLY KNOWN AS SAFEWAY,...   \n",
       "1030                                      JULIE PACKARD   \n",
       "337                                        CLAIRE PERRY   \n",
       "224   CALIFORNIA GROCERS ASSOCIATION ISSUES COMMITTE...   \n",
       "1622                                 RALPHS/FOOD 4 LESS   \n",
       "1937                                    THOMAS F STEYER   \n",
       "1925                             THE NATURE CONSERVANCY   \n",
       "1784                 SAVE THE BAY (NONPROFIT 501(C)(3))   \n",
       "1785                           SAVE THE BAY ACTION FUND   \n",
       "\n",
       "                                       committee_name_x committee_position  \\\n",
       "223   CALIFORNIA GROCERS ASSOCIATION ISSUES COMMITTE...            SUPPORT   \n",
       "28    YES ON 67 - PROTECT THE PLASTIC BAG BAN, SPONS...            SUPPORT   \n",
       "1030  YES ON 67 - PROTECT THE PLASTIC BAG BAN, SPONS...            SUPPORT   \n",
       "337   YES ON 67 - PROTECT THE PLASTIC BAG BAN, SPONS...            SUPPORT   \n",
       "224   YES ON 67 - PROTECT THE PLASTIC BAG BAN, SPONS...            SUPPORT   \n",
       "1622  YES ON 67 - PROTECT THE PLASTIC BAG BAN, SPONS...            SUPPORT   \n",
       "1937  YES ON 67 - PROTECT THE PLASTIC BAG BAN, SPONS...            SUPPORT   \n",
       "1925  YES ON 67 - PROTECT THE PLASTIC BAG BAN, SPONS...            SUPPORT   \n",
       "1784  SAVE THE BAY ACTION FUND COMMITTEE TO SUPPORT ...            SUPPORT   \n",
       "1785  SAVE THE BAY ACTION FUND COMMITTEE TO SUPPORT ...            SUPPORT   \n",
       "\n",
       "         amount  \n",
       "223  200,000.00  \n",
       "28   150,000.00  \n",
       "1030 105,000.00  \n",
       "337  100,000.00  \n",
       "224  100,000.00  \n",
       "1622  80,000.00  \n",
       "1937  50,000.00  \n",
       "1925  50,000.00  \n",
       "1784  50,000.00  \n",
       "1785  40,000.00  "
      ]
     },
     "execution_count": 61,
     "metadata": {},
     "output_type": "execute_result"
    }
   ],
   "source": [
    "support.groupby([\"Contributor\", \"committee_name_x\", \"committee_position\"]).amount.sum().reset_index().sort_values(\"amount\", ascending=False).head(10)"
   ]
  },
  {
   "cell_type": "code",
   "execution_count": 50,
   "metadata": {
    "collapsed": false
   },
   "outputs": [
    {
     "data": {
      "text/html": [
       "<div>\n",
       "<table border=\"1\" class=\"dataframe\">\n",
       "  <thead>\n",
       "    <tr style=\"text-align: right;\">\n",
       "      <th></th>\n",
       "      <th>Contributor</th>\n",
       "      <th>committee_name_x</th>\n",
       "      <th>committee_position</th>\n",
       "      <th>amount</th>\n",
       "    </tr>\n",
       "  </thead>\n",
       "  <tbody>\n",
       "    <tr>\n",
       "      <th>2</th>\n",
       "      <td>HILEX POLY CO. LLC</td>\n",
       "      <td>AMERICAN PROGRESSIVE BAG ALLIANCE, A PROJECT O...</td>\n",
       "      <td>OPPOSE</td>\n",
       "      <td>874,769.00</td>\n",
       "    </tr>\n",
       "    <tr>\n",
       "      <th>1</th>\n",
       "      <td>FORMOSA PLASTICS CORPORATION U.S.A.</td>\n",
       "      <td>AMERICAN PROGRESSIVE BAG ALLIANCE, A PROJECT O...</td>\n",
       "      <td>OPPOSE</td>\n",
       "      <td>748,441.50</td>\n",
       "    </tr>\n",
       "    <tr>\n",
       "      <th>4</th>\n",
       "      <td>SUPERBAG CORP.</td>\n",
       "      <td>AMERICAN PROGRESSIVE BAG ALLIANCE, A PROJECT O...</td>\n",
       "      <td>OPPOSE</td>\n",
       "      <td>609,369.75</td>\n",
       "    </tr>\n",
       "    <tr>\n",
       "      <th>0</th>\n",
       "      <td>ADVANCE POLYBAG, INC.</td>\n",
       "      <td>AMERICAN PROGRESSIVE BAG ALLIANCE, A PROJECT O...</td>\n",
       "      <td>OPPOSE</td>\n",
       "      <td>446,833.00</td>\n",
       "    </tr>\n",
       "    <tr>\n",
       "      <th>3</th>\n",
       "      <td>RESTORE CALIFORNIA  - JIM FRAZIER BALLOT MEASU...</td>\n",
       "      <td>AMERICAN PROGRESSIVE BAG ALLIANCE, A PROJECT O...</td>\n",
       "      <td>OPPOSE</td>\n",
       "      <td>2,000.00</td>\n",
       "    </tr>\n",
       "  </tbody>\n",
       "</table>\n",
       "</div>"
      ],
      "text/plain": [
       "                                         Contributor  \\\n",
       "2                                 HILEX POLY CO. LLC   \n",
       "1                FORMOSA PLASTICS CORPORATION U.S.A.   \n",
       "4                                     SUPERBAG CORP.   \n",
       "0                              ADVANCE POLYBAG, INC.   \n",
       "3  RESTORE CALIFORNIA  - JIM FRAZIER BALLOT MEASU...   \n",
       "\n",
       "                                    committee_name_x committee_position  \\\n",
       "2  AMERICAN PROGRESSIVE BAG ALLIANCE, A PROJECT O...             OPPOSE   \n",
       "1  AMERICAN PROGRESSIVE BAG ALLIANCE, A PROJECT O...             OPPOSE   \n",
       "4  AMERICAN PROGRESSIVE BAG ALLIANCE, A PROJECT O...             OPPOSE   \n",
       "0  AMERICAN PROGRESSIVE BAG ALLIANCE, A PROJECT O...             OPPOSE   \n",
       "3  AMERICAN PROGRESSIVE BAG ALLIANCE, A PROJECT O...             OPPOSE   \n",
       "\n",
       "      amount  \n",
       "2 874,769.00  \n",
       "1 748,441.50  \n",
       "4 609,369.75  \n",
       "0 446,833.00  \n",
       "3   2,000.00  "
      ]
     },
     "execution_count": 50,
     "metadata": {},
     "output_type": "execute_result"
    }
   ],
   "source": [
    "oppose.groupby([\"Contributor\", \"committee_name_x\", \"committee_position\"]).amount.sum().reset_index().sort_values(\"amount\", ascending=False).head(10)"
   ]
  },
  {
   "cell_type": "markdown",
   "metadata": {},
   "source": [
    "### Aggregate the contribution sums by committee position and CA or Out of State address for contributor for use in analyzing percent of contributions"
   ]
  },
  {
   "cell_type": "code",
   "execution_count": 88,
   "metadata": {
    "collapsed": false
   },
   "outputs": [],
   "source": [
    "support_tot = support.amount.sum()"
   ]
  },
  {
   "cell_type": "code",
   "execution_count": 89,
   "metadata": {
    "collapsed": false
   },
   "outputs": [],
   "source": [
    "oppose_tot = oppose.amount.sum()"
   ]
  },
  {
   "cell_type": "code",
   "execution_count": 57,
   "metadata": {
    "collapsed": true
   },
   "outputs": [],
   "source": [
    "percent_support = support_tot / (support_tot + oppose_tot)"
   ]
  },
  {
   "cell_type": "code",
   "execution_count": 58,
   "metadata": {
    "collapsed": true
   },
   "outputs": [],
   "source": [
    "percent_oppose = oppose_tot/(support_tot + oppose_tot)"
   ]
  },
  {
   "cell_type": "code",
   "execution_count": 59,
   "metadata": {
    "collapsed": false
   },
   "outputs": [
    {
     "data": {
      "text/plain": [
       "0.40020828421585236"
      ]
     },
     "execution_count": 59,
     "metadata": {},
     "output_type": "execute_result"
    }
   ],
   "source": [
    "percent_support"
   ]
  },
  {
   "cell_type": "code",
   "execution_count": 60,
   "metadata": {
    "collapsed": false
   },
   "outputs": [
    {
     "data": {
      "text/plain": [
       "0.5997917157841476"
      ]
     },
     "execution_count": 60,
     "metadata": {},
     "output_type": "execute_result"
    }
   ],
   "source": [
    "percent_oppose"
   ]
  },
  {
   "cell_type": "code",
   "execution_count": 84,
   "metadata": {
    "collapsed": false
   },
   "outputs": [],
   "source": [
    "support_CA = merged[(merged.committee_position == \"SUPPORT\") & (merged.Source_St ==\"CA\")]"
   ]
  },
  {
   "cell_type": "code",
   "execution_count": 85,
   "metadata": {
    "collapsed": true
   },
   "outputs": [],
   "source": [
    "support_OTH = merged[(merged.committee_position == \"SUPPORT\") & (merged.Source_St ==\"OTH\")]"
   ]
  },
  {
   "cell_type": "code",
   "execution_count": 86,
   "metadata": {
    "collapsed": true
   },
   "outputs": [],
   "source": [
    "oppose_CA = merged[(merged.committee_position == \"OPPOSE\") & (merged.Source_St ==\"CA\")]"
   ]
  },
  {
   "cell_type": "code",
   "execution_count": 87,
   "metadata": {
    "collapsed": true
   },
   "outputs": [],
   "source": [
    "oppose_OTH = merged[(merged.committee_position == \"OPPOSE\") & (merged.Source_St ==\"OTH\")]"
   ]
  },
  {
   "cell_type": "code",
   "execution_count": 92,
   "metadata": {
    "collapsed": false
   },
   "outputs": [],
   "source": [
    "support_CA_tot = support_CA.amount.sum()"
   ]
  },
  {
   "cell_type": "code",
   "execution_count": 93,
   "metadata": {
    "collapsed": false
   },
   "outputs": [],
   "source": [
    "support_OTH_tot = support_OTH.amount.sum()"
   ]
  },
  {
   "cell_type": "code",
   "execution_count": 94,
   "metadata": {
    "collapsed": false
   },
   "outputs": [],
   "source": [
    "oppose_CA_tot = oppose_CA.amount.sum()"
   ]
  },
  {
   "cell_type": "code",
   "execution_count": 95,
   "metadata": {
    "collapsed": false
   },
   "outputs": [],
   "source": [
    "oppose_OTH_tot = oppose_OTH.amount.sum()"
   ]
  },
  {
   "cell_type": "code",
   "execution_count": 96,
   "metadata": {
    "collapsed": false
   },
   "outputs": [
    {
     "data": {
      "text/plain": [
       "764.188375"
      ]
     },
     "execution_count": 96,
     "metadata": {},
     "output_type": "execute_result"
    }
   ],
   "source": [
    "support_CA.amount.sum()/oppose_CA.amount.sum()"
   ]
  },
  {
   "cell_type": "code",
   "execution_count": 97,
   "metadata": {
    "collapsed": false
   },
   "outputs": [],
   "source": [
    "graph_data = {'Type':['All', 'Support', 'Oppose'], 'CA':[(support_CA_tot + oppose_CA_tot)/(support_tot + oppose_tot),support_CA_tot/support_tot, oppose_CA_tot/oppose_tot], 'Out of State':[(oppose_OTH_tot + support_OTH_tot)/(support_tot + oppose_tot), support_OTH_tot/support_tot, oppose_OTH_tot/oppose_tot]}"
   ]
  },
  {
   "cell_type": "code",
   "execution_count": 100,
   "metadata": {
    "collapsed": false
   },
   "outputs": [
    {
     "data": {
      "text/html": [
       "<div>\n",
       "<table border=\"1\" class=\"dataframe\">\n",
       "  <thead>\n",
       "    <tr style=\"text-align: right;\">\n",
       "      <th></th>\n",
       "      <th>Type</th>\n",
       "      <th>CA</th>\n",
       "      <th>Out of State</th>\n",
       "    </tr>\n",
       "  </thead>\n",
       "  <tbody>\n",
       "    <tr>\n",
       "      <th>0</th>\n",
       "      <td>All</td>\n",
       "      <td>0.34</td>\n",
       "      <td>0.66</td>\n",
       "    </tr>\n",
       "    <tr>\n",
       "      <th>1</th>\n",
       "      <td>Support</td>\n",
       "      <td>0.85</td>\n",
       "      <td>0.15</td>\n",
       "    </tr>\n",
       "    <tr>\n",
       "      <th>2</th>\n",
       "      <td>Oppose</td>\n",
       "      <td>0.00</td>\n",
       "      <td>1.00</td>\n",
       "    </tr>\n",
       "  </tbody>\n",
       "</table>\n",
       "</div>"
      ],
      "text/plain": [
       "      Type   CA  Out of State\n",
       "0      All 0.34          0.66\n",
       "1  Support 0.85          0.15\n",
       "2   Oppose 0.00          1.00"
      ]
     },
     "execution_count": 100,
     "metadata": {},
     "output_type": "execute_result"
    }
   ],
   "source": [
    "df = pd.DataFrame(graph_data, columns = ['Type', 'CA', 'Out of State'])\n",
    "df"
   ]
  },
  {
   "cell_type": "markdown",
   "metadata": {},
   "source": [
    "### Make  Plot"
   ]
  },
  {
   "cell_type": "code",
   "execution_count": 101,
   "metadata": {
    "collapsed": false
   },
   "outputs": [
    {
     "data": {
      "image/png": "[encoded data removed]",
      "text/plain": [
       "<matplotlib.figure.Figure at 0xd5ccc30>"
      ]
     },
     "metadata": {},
     "output_type": "display_data"
    }
   ],
   "source": [
    "# Setting the positions and width for the bars\n",
    "pos = list(range(len(df['CA'])))\n",
    "width = 0.25\n",
    "\n",
    "# Plotting the bars\n",
    "fig, ax = plt.subplots(figsize=(10,5))\n",
    "\n",
    "# Create a bar with CA,\n",
    "# in position pos,\n",
    "plt.bar(pos,\n",
    "        #using df['CA'] data,\n",
    "        df['CA'],\n",
    "        # of width\n",
    "        width,\n",
    "        # with alpha 0.5\n",
    "        alpha=0.5,\n",
    "        # with color\n",
    "        color='#EE3224',\n",
    "        # with label the first value in first_name\n",
    "        label=df['Type'][0])\n",
    "\n",
    "# Create a bar with Out of State,\n",
    "# in position pos + some width buffer,\n",
    "plt.bar([p + width for p in pos],\n",
    "        #using df['Out of State'] data,\n",
    "        df['Out of State'],\n",
    "        # of width\n",
    "        width,\n",
    "        # with alpha 0.5\n",
    "        alpha=0.5,\n",
    "        # with color\n",
    "        color='#F78F1E',\n",
    "        # with label the second value in first_name\n",
    "        label=df['Type'][1])\n",
    "\n",
    "\n",
    "\n",
    "# Set the y axis label\n",
    "ax.set_ylabel('% Large Donor Contributions')\n",
    "\n",
    "# Set the chart's title\n",
    "ax.set_title('Proposition 67 CA vs Out of State Contributions')\n",
    "\n",
    "# Set the position of the x ticks\n",
    "ax.set_xticks([p + 1.5 * width for p in pos])\n",
    "\n",
    "# Set the labels for the x ticks\n",
    "ax.set_xticklabels(df['Type'])\n",
    "\n",
    "# Setting the x-axis and y-axis limits\n",
    "plt.xlim(min(pos)-width, max(pos)+width*4)\n",
    "plt.ylim([0, max(df['CA'] + df['Out of State'])] )\n",
    "\n",
    "# Adding the legend and showing the plot\n",
    "plt.legend(['CA', 'Out of State'], loc='upper left')\n",
    "plt.grid()\n",
    "plt.show()"
   ]
  },
  {
   "cell_type": "markdown",
   "metadata": {
    "collapsed": true
   },
   "source": [
    "# The results of the election for Proposition 67\n",
    "\n",
    "A \"yes\" vote supported upholding the contested legislation banning certain plastic bags that was enacted by the California State Legislature as Senate Bill 270.\n",
    "\n",
    "Yes prevailed 53.27% to 46.73%. \n",
    "\n",
    "The SUPPORT side had only 40% of the large donor total amount, but 85% of the came from CA addresses, for a total of $1,789,160.75. \n",
    "\n",
    "The OPPOSE side had a larger total large donor contributions, a total of $2,681,413.25, and 0.07% that was contributed by donors with CA addresses.  The majority of the money was from donors with addresses in TX, SC and NJ.\n",
    "\n",
    "So there was a large correlation between outside money vs. California donor money and the position taken regarding the proposition.  But the \"home team\" won, in spite of having less large donor money in total."
   ]
  },
  {
   "cell_type": "code",
   "execution_count": null,
   "metadata": {
    "collapsed": true
   },
   "outputs": [],
   "source": []
  }
 ],
 "metadata": {
  "anaconda-cloud": {},
  "kernelspec": {
   "display_name": "Python [default]",
   "language": "python",
   "name": "python2"
  },
  "language_info": {
   "codemirror_mode": {
    "name": "ipython",
    "version": 2
   },
   "file_extension": ".py",
   "mimetype": "text/x-python",
   "name": "python",
   "nbconvert_exporter": "python",
   "pygments_lexer": "ipython2",
   "version": "2.7.12"
  }
 },
 "nbformat": 4,
 "nbformat_minor": 1
}
